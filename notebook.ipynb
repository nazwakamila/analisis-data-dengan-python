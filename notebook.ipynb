{
 "cells": [
  {
   "cell_type": "markdown",
   "metadata": {
    "id": "H9wADwK78DCz"
   },
   "source": [
    "# **Proyek Analisis Data: Bike Sharing Dataset**\n",
    " - **Nama:** Nazwa Kamila Willyanissa\n",
    " - **Email:** nazwakamila111@gmail.com\n",
    " - **ID Dicoding:** nazwakamila"
   ]
  },
  {
   "cell_type": "markdown",
   "metadata": {
    "id": "eE0raob58DC0"
   },
   "source": [
    "## **Menentukan Pertanyaan Bisnis**"
   ]
  },
  {
   "cell_type": "markdown",
   "metadata": {
    "id": "GmQeQ5YF8DC0"
   },
   "source": [
    "- Pertanyaan 1 : Bagaimana penyewaan sepeda berdasarkan musim?\n",
    "- Pertanyaan 2 : Bagaimana penyewaan sepeda berdasarkan Jam yang terbanyak dan tersedikit?\n",
    "- Pertanyaan 3 : Bagaimana perbandingan jumlah pengguna casual vs pengguna teregistrasi?\n",
    "- Pertanyaan 4 : Bagaimana pola penyewaan sepeda antara hari kerja vs akhir pekan?\n",
    "- Pertanyaan 5 : Berapa Total Penyewaan Setiap Bulannya?"
   ]
  },
  {
   "cell_type": "markdown",
   "metadata": {
    "id": "H-z4QGlO8DC1"
   },
   "source": [
    "## **Import Semua Packages/Library yang Digunakan**"
   ]
  },
  {
   "cell_type": "code",
   "execution_count": 1,
   "metadata": {
    "id": "FVYwaObI8DC1"
   },
   "outputs": [],
   "source": [
    "import numpy as np\n",
    "import pandas as pd\n",
    "from scipy import stats\n",
    "import seaborn as sns\n",
    "import matplotlib.pyplot as plt\n",
    "import matplotlib.image as mpimg\n",
    "import urllib\n",
    "from sklearn.preprocessing import StandardScaler\n",
    "from sklearn.cluster import KMeans"
   ]
  },
  {
   "cell_type": "markdown",
   "metadata": {
    "id": "h_Sh51Xy8DC1"
   },
   "source": [
    "## **1. Data Wrangling**"
   ]
  },
  {
   "cell_type": "markdown",
   "metadata": {
    "id": "sXU2GBYu8DC1"
   },
   "source": [
    "### 1.1 Gathering Data"
   ]
  },
  {
   "cell_type": "code",
   "execution_count": 2,
   "metadata": {
    "id": "zjCBk1BI8DC1"
   },
   "outputs": [],
   "source": [
    "day = pd.read_csv('data/day.csv')\n",
    "hour = pd.read_csv('data/hour.csv')\n",
    "\n",
    "data = {'day': day,\n",
    "        'hour': hour}"
   ]
  },
  {
   "cell_type": "code",
   "execution_count": 3,
   "metadata": {},
   "outputs": [
    {
     "data": {
      "text/html": [
       "<div>\n",
       "<style scoped>\n",
       "    .dataframe tbody tr th:only-of-type {\n",
       "        vertical-align: middle;\n",
       "    }\n",
       "\n",
       "    .dataframe tbody tr th {\n",
       "        vertical-align: top;\n",
       "    }\n",
       "\n",
       "    .dataframe thead th {\n",
       "        text-align: right;\n",
       "    }\n",
       "</style>\n",
       "<table border=\"1\" class=\"dataframe\">\n",
       "  <thead>\n",
       "    <tr style=\"text-align: right;\">\n",
       "      <th></th>\n",
       "      <th>instant</th>\n",
       "      <th>dteday</th>\n",
       "      <th>season</th>\n",
       "      <th>yr</th>\n",
       "      <th>mnth</th>\n",
       "      <th>holiday</th>\n",
       "      <th>weekday</th>\n",
       "      <th>workingday</th>\n",
       "      <th>weathersit</th>\n",
       "      <th>temp</th>\n",
       "      <th>atemp</th>\n",
       "      <th>hum</th>\n",
       "      <th>windspeed</th>\n",
       "      <th>casual</th>\n",
       "      <th>registered</th>\n",
       "      <th>cnt</th>\n",
       "    </tr>\n",
       "  </thead>\n",
       "  <tbody>\n",
       "    <tr>\n",
       "      <th>0</th>\n",
       "      <td>1</td>\n",
       "      <td>2011-01-01</td>\n",
       "      <td>1</td>\n",
       "      <td>0</td>\n",
       "      <td>1</td>\n",
       "      <td>0</td>\n",
       "      <td>6</td>\n",
       "      <td>0</td>\n",
       "      <td>2</td>\n",
       "      <td>0.344167</td>\n",
       "      <td>0.363625</td>\n",
       "      <td>0.805833</td>\n",
       "      <td>0.160446</td>\n",
       "      <td>331</td>\n",
       "      <td>654</td>\n",
       "      <td>985</td>\n",
       "    </tr>\n",
       "    <tr>\n",
       "      <th>1</th>\n",
       "      <td>2</td>\n",
       "      <td>2011-01-02</td>\n",
       "      <td>1</td>\n",
       "      <td>0</td>\n",
       "      <td>1</td>\n",
       "      <td>0</td>\n",
       "      <td>0</td>\n",
       "      <td>0</td>\n",
       "      <td>2</td>\n",
       "      <td>0.363478</td>\n",
       "      <td>0.353739</td>\n",
       "      <td>0.696087</td>\n",
       "      <td>0.248539</td>\n",
       "      <td>131</td>\n",
       "      <td>670</td>\n",
       "      <td>801</td>\n",
       "    </tr>\n",
       "    <tr>\n",
       "      <th>2</th>\n",
       "      <td>3</td>\n",
       "      <td>2011-01-03</td>\n",
       "      <td>1</td>\n",
       "      <td>0</td>\n",
       "      <td>1</td>\n",
       "      <td>0</td>\n",
       "      <td>1</td>\n",
       "      <td>1</td>\n",
       "      <td>1</td>\n",
       "      <td>0.196364</td>\n",
       "      <td>0.189405</td>\n",
       "      <td>0.437273</td>\n",
       "      <td>0.248309</td>\n",
       "      <td>120</td>\n",
       "      <td>1229</td>\n",
       "      <td>1349</td>\n",
       "    </tr>\n",
       "    <tr>\n",
       "      <th>3</th>\n",
       "      <td>4</td>\n",
       "      <td>2011-01-04</td>\n",
       "      <td>1</td>\n",
       "      <td>0</td>\n",
       "      <td>1</td>\n",
       "      <td>0</td>\n",
       "      <td>2</td>\n",
       "      <td>1</td>\n",
       "      <td>1</td>\n",
       "      <td>0.200000</td>\n",
       "      <td>0.212122</td>\n",
       "      <td>0.590435</td>\n",
       "      <td>0.160296</td>\n",
       "      <td>108</td>\n",
       "      <td>1454</td>\n",
       "      <td>1562</td>\n",
       "    </tr>\n",
       "    <tr>\n",
       "      <th>4</th>\n",
       "      <td>5</td>\n",
       "      <td>2011-01-05</td>\n",
       "      <td>1</td>\n",
       "      <td>0</td>\n",
       "      <td>1</td>\n",
       "      <td>0</td>\n",
       "      <td>3</td>\n",
       "      <td>1</td>\n",
       "      <td>1</td>\n",
       "      <td>0.226957</td>\n",
       "      <td>0.229270</td>\n",
       "      <td>0.436957</td>\n",
       "      <td>0.186900</td>\n",
       "      <td>82</td>\n",
       "      <td>1518</td>\n",
       "      <td>1600</td>\n",
       "    </tr>\n",
       "  </tbody>\n",
       "</table>\n",
       "</div>"
      ],
      "text/plain": [
       "   instant      dteday  season  yr  mnth  holiday  weekday  workingday  \\\n",
       "0        1  2011-01-01       1   0     1        0        6           0   \n",
       "1        2  2011-01-02       1   0     1        0        0           0   \n",
       "2        3  2011-01-03       1   0     1        0        1           1   \n",
       "3        4  2011-01-04       1   0     1        0        2           1   \n",
       "4        5  2011-01-05       1   0     1        0        3           1   \n",
       "\n",
       "   weathersit      temp     atemp       hum  windspeed  casual  registered  \\\n",
       "0           2  0.344167  0.363625  0.805833   0.160446     331         654   \n",
       "1           2  0.363478  0.353739  0.696087   0.248539     131         670   \n",
       "2           1  0.196364  0.189405  0.437273   0.248309     120        1229   \n",
       "3           1  0.200000  0.212122  0.590435   0.160296     108        1454   \n",
       "4           1  0.226957  0.229270  0.436957   0.186900      82        1518   \n",
       "\n",
       "    cnt  \n",
       "0   985  \n",
       "1   801  \n",
       "2  1349  \n",
       "3  1562  \n",
       "4  1600  "
      ]
     },
     "execution_count": 3,
     "metadata": {},
     "output_type": "execute_result"
    }
   ],
   "source": [
    "data['day'].head()"
   ]
  },
  {
   "cell_type": "markdown",
   "metadata": {},
   "source": [
    "menampilkan informasi 5 data teratas dari dataset **day**\n",
    "\n",
    "---"
   ]
  },
  {
   "cell_type": "code",
   "execution_count": 4,
   "metadata": {},
   "outputs": [
    {
     "data": {
      "text/html": [
       "<div>\n",
       "<style scoped>\n",
       "    .dataframe tbody tr th:only-of-type {\n",
       "        vertical-align: middle;\n",
       "    }\n",
       "\n",
       "    .dataframe tbody tr th {\n",
       "        vertical-align: top;\n",
       "    }\n",
       "\n",
       "    .dataframe thead th {\n",
       "        text-align: right;\n",
       "    }\n",
       "</style>\n",
       "<table border=\"1\" class=\"dataframe\">\n",
       "  <thead>\n",
       "    <tr style=\"text-align: right;\">\n",
       "      <th></th>\n",
       "      <th>instant</th>\n",
       "      <th>dteday</th>\n",
       "      <th>season</th>\n",
       "      <th>yr</th>\n",
       "      <th>mnth</th>\n",
       "      <th>hr</th>\n",
       "      <th>holiday</th>\n",
       "      <th>weekday</th>\n",
       "      <th>workingday</th>\n",
       "      <th>weathersit</th>\n",
       "      <th>temp</th>\n",
       "      <th>atemp</th>\n",
       "      <th>hum</th>\n",
       "      <th>windspeed</th>\n",
       "      <th>casual</th>\n",
       "      <th>registered</th>\n",
       "      <th>cnt</th>\n",
       "    </tr>\n",
       "  </thead>\n",
       "  <tbody>\n",
       "    <tr>\n",
       "      <th>0</th>\n",
       "      <td>1</td>\n",
       "      <td>2011-01-01</td>\n",
       "      <td>1</td>\n",
       "      <td>0</td>\n",
       "      <td>1</td>\n",
       "      <td>0</td>\n",
       "      <td>0</td>\n",
       "      <td>6</td>\n",
       "      <td>0</td>\n",
       "      <td>1</td>\n",
       "      <td>0.24</td>\n",
       "      <td>0.2879</td>\n",
       "      <td>0.81</td>\n",
       "      <td>0.0</td>\n",
       "      <td>3</td>\n",
       "      <td>13</td>\n",
       "      <td>16</td>\n",
       "    </tr>\n",
       "    <tr>\n",
       "      <th>1</th>\n",
       "      <td>2</td>\n",
       "      <td>2011-01-01</td>\n",
       "      <td>1</td>\n",
       "      <td>0</td>\n",
       "      <td>1</td>\n",
       "      <td>1</td>\n",
       "      <td>0</td>\n",
       "      <td>6</td>\n",
       "      <td>0</td>\n",
       "      <td>1</td>\n",
       "      <td>0.22</td>\n",
       "      <td>0.2727</td>\n",
       "      <td>0.80</td>\n",
       "      <td>0.0</td>\n",
       "      <td>8</td>\n",
       "      <td>32</td>\n",
       "      <td>40</td>\n",
       "    </tr>\n",
       "    <tr>\n",
       "      <th>2</th>\n",
       "      <td>3</td>\n",
       "      <td>2011-01-01</td>\n",
       "      <td>1</td>\n",
       "      <td>0</td>\n",
       "      <td>1</td>\n",
       "      <td>2</td>\n",
       "      <td>0</td>\n",
       "      <td>6</td>\n",
       "      <td>0</td>\n",
       "      <td>1</td>\n",
       "      <td>0.22</td>\n",
       "      <td>0.2727</td>\n",
       "      <td>0.80</td>\n",
       "      <td>0.0</td>\n",
       "      <td>5</td>\n",
       "      <td>27</td>\n",
       "      <td>32</td>\n",
       "    </tr>\n",
       "    <tr>\n",
       "      <th>3</th>\n",
       "      <td>4</td>\n",
       "      <td>2011-01-01</td>\n",
       "      <td>1</td>\n",
       "      <td>0</td>\n",
       "      <td>1</td>\n",
       "      <td>3</td>\n",
       "      <td>0</td>\n",
       "      <td>6</td>\n",
       "      <td>0</td>\n",
       "      <td>1</td>\n",
       "      <td>0.24</td>\n",
       "      <td>0.2879</td>\n",
       "      <td>0.75</td>\n",
       "      <td>0.0</td>\n",
       "      <td>3</td>\n",
       "      <td>10</td>\n",
       "      <td>13</td>\n",
       "    </tr>\n",
       "    <tr>\n",
       "      <th>4</th>\n",
       "      <td>5</td>\n",
       "      <td>2011-01-01</td>\n",
       "      <td>1</td>\n",
       "      <td>0</td>\n",
       "      <td>1</td>\n",
       "      <td>4</td>\n",
       "      <td>0</td>\n",
       "      <td>6</td>\n",
       "      <td>0</td>\n",
       "      <td>1</td>\n",
       "      <td>0.24</td>\n",
       "      <td>0.2879</td>\n",
       "      <td>0.75</td>\n",
       "      <td>0.0</td>\n",
       "      <td>0</td>\n",
       "      <td>1</td>\n",
       "      <td>1</td>\n",
       "    </tr>\n",
       "  </tbody>\n",
       "</table>\n",
       "</div>"
      ],
      "text/plain": [
       "   instant      dteday  season  yr  mnth  hr  holiday  weekday  workingday  \\\n",
       "0        1  2011-01-01       1   0     1   0        0        6           0   \n",
       "1        2  2011-01-01       1   0     1   1        0        6           0   \n",
       "2        3  2011-01-01       1   0     1   2        0        6           0   \n",
       "3        4  2011-01-01       1   0     1   3        0        6           0   \n",
       "4        5  2011-01-01       1   0     1   4        0        6           0   \n",
       "\n",
       "   weathersit  temp   atemp   hum  windspeed  casual  registered  cnt  \n",
       "0           1  0.24  0.2879  0.81        0.0       3          13   16  \n",
       "1           1  0.22  0.2727  0.80        0.0       8          32   40  \n",
       "2           1  0.22  0.2727  0.80        0.0       5          27   32  \n",
       "3           1  0.24  0.2879  0.75        0.0       3          10   13  \n",
       "4           1  0.24  0.2879  0.75        0.0       0           1    1  "
      ]
     },
     "execution_count": 4,
     "metadata": {},
     "output_type": "execute_result"
    }
   ],
   "source": [
    "data['hour'].head()"
   ]
  },
  {
   "cell_type": "markdown",
   "metadata": {},
   "source": [
    "menampilkan informasi 5 data teratas dari dataset **hour**\n",
    "\n",
    "---"
   ]
  },
  {
   "cell_type": "markdown",
   "metadata": {
    "id": "MMi6xGaDkbCi"
   },
   "source": [
    "**Insight:**\n",
    "- Bisa kita lihat bahwasanya dengan *.head()* akan menampilkan 5 data teratas \n",
    "- Terdapat beberapa colomn seperti *dteday, season, casual, registered*, dsb. yang bisa kita gunakan untuk menganalisis selanjutnya\n",
    "\n",
    "---"
   ]
  },
  {
   "cell_type": "markdown",
   "metadata": {
    "id": "FHSiqaZp8DC1"
   },
   "source": [
    "### 1.2 Assessing Data"
   ]
  },
  {
   "cell_type": "markdown",
   "metadata": {
    "id": "ax-3tEjc9Cj1"
   },
   "source": [
    "- 1.2.1 Memeriksa semua tipe data "
   ]
  },
  {
   "cell_type": "code",
   "execution_count": 5,
   "metadata": {},
   "outputs": [
    {
     "name": "stdout",
     "output_type": "stream",
     "text": [
      "\n",
      "day Information:\n",
      "<class 'pandas.core.frame.DataFrame'>\n",
      "RangeIndex: 731 entries, 0 to 730\n",
      "Data columns (total 16 columns):\n",
      " #   Column      Non-Null Count  Dtype  \n",
      "---  ------      --------------  -----  \n",
      " 0   instant     731 non-null    int64  \n",
      " 1   dteday      731 non-null    object \n",
      " 2   season      731 non-null    int64  \n",
      " 3   yr          731 non-null    int64  \n",
      " 4   mnth        731 non-null    int64  \n",
      " 5   holiday     731 non-null    int64  \n",
      " 6   weekday     731 non-null    int64  \n",
      " 7   workingday  731 non-null    int64  \n",
      " 8   weathersit  731 non-null    int64  \n",
      " 9   temp        731 non-null    float64\n",
      " 10  atemp       731 non-null    float64\n",
      " 11  hum         731 non-null    float64\n",
      " 12  windspeed   731 non-null    float64\n",
      " 13  casual      731 non-null    int64  \n",
      " 14  registered  731 non-null    int64  \n",
      " 15  cnt         731 non-null    int64  \n",
      "dtypes: float64(4), int64(11), object(1)\n",
      "memory usage: 91.5+ KB\n",
      "None\n",
      "\n",
      "hour Information:\n",
      "<class 'pandas.core.frame.DataFrame'>\n",
      "RangeIndex: 17379 entries, 0 to 17378\n",
      "Data columns (total 17 columns):\n",
      " #   Column      Non-Null Count  Dtype  \n",
      "---  ------      --------------  -----  \n",
      " 0   instant     17379 non-null  int64  \n",
      " 1   dteday      17379 non-null  object \n",
      " 2   season      17379 non-null  int64  \n",
      " 3   yr          17379 non-null  int64  \n",
      " 4   mnth        17379 non-null  int64  \n",
      " 5   hr          17379 non-null  int64  \n",
      " 6   holiday     17379 non-null  int64  \n",
      " 7   weekday     17379 non-null  int64  \n",
      " 8   workingday  17379 non-null  int64  \n",
      " 9   weathersit  17379 non-null  int64  \n",
      " 10  temp        17379 non-null  float64\n",
      " 11  atemp       17379 non-null  float64\n",
      " 12  hum         17379 non-null  float64\n",
      " 13  windspeed   17379 non-null  float64\n",
      " 14  casual      17379 non-null  int64  \n",
      " 15  registered  17379 non-null  int64  \n",
      " 16  cnt         17379 non-null  int64  \n",
      "dtypes: float64(4), int64(12), object(1)\n",
      "memory usage: 2.3+ MB\n",
      "None\n"
     ]
    }
   ],
   "source": [
    "for df_name, df in data.items():\n",
    "    print(f\"\\n{df_name} Information:\")\n",
    "    print(data[df_name].info())"
   ]
  },
  {
   "cell_type": "markdown",
   "metadata": {},
   "source": [
    "Semua nilai telah terisi lengkap, tidak terdapat nilai kosong (*null value*) pada tabel **day** maupun **hour**\n",
    "\n",
    "---"
   ]
  },
  {
   "cell_type": "markdown",
   "metadata": {},
   "source": [
    "- 1.2.2 Memeriksa data duplikat"
   ]
  },
  {
   "cell_type": "code",
   "execution_count": 6,
   "metadata": {},
   "outputs": [
    {
     "data": {
      "text/html": [
       "<div>\n",
       "<style scoped>\n",
       "    .dataframe tbody tr th:only-of-type {\n",
       "        vertical-align: middle;\n",
       "    }\n",
       "\n",
       "    .dataframe tbody tr th {\n",
       "        vertical-align: top;\n",
       "    }\n",
       "\n",
       "    .dataframe thead th {\n",
       "        text-align: right;\n",
       "    }\n",
       "</style>\n",
       "<table border=\"1\" class=\"dataframe\">\n",
       "  <thead>\n",
       "    <tr style=\"text-align: right;\">\n",
       "      <th></th>\n",
       "      <th>Total Jumlah Sampel</th>\n",
       "      <th>Jumlah Duplikat</th>\n",
       "    </tr>\n",
       "  </thead>\n",
       "  <tbody>\n",
       "    <tr>\n",
       "      <th>day</th>\n",
       "      <td>731</td>\n",
       "      <td>0</td>\n",
       "    </tr>\n",
       "    <tr>\n",
       "      <th>hour</th>\n",
       "      <td>17379</td>\n",
       "      <td>0</td>\n",
       "    </tr>\n",
       "  </tbody>\n",
       "</table>\n",
       "</div>"
      ],
      "text/plain": [
       "      Total Jumlah Sampel  Jumlah Duplikat\n",
       "day                   731                0\n",
       "hour                17379                0"
      ]
     },
     "execution_count": 6,
     "metadata": {},
     "output_type": "execute_result"
    }
   ],
   "source": [
    "duplicate_counts = {}\n",
    "total_sample_counts = {}\n",
    "\n",
    "for df_name, df in data.items():\n",
    "    duplicate_counts[df_name] = df.duplicated().sum()\n",
    "    total_sample_counts[df_name] = len(df)\n",
    "\n",
    "duplicate_counts_df = pd.DataFrame.from_dict(duplicate_counts, orient='index', columns=['Jumlah Duplikat'])\n",
    "total_sample_counts_df = pd.DataFrame.from_dict(total_sample_counts, orient='index', columns=['Total Jumlah Sampel'])\n",
    "\n",
    "pd.concat([total_sample_counts_df, duplicate_counts_df], axis=1)"
   ]
  },
  {
   "cell_type": "markdown",
   "metadata": {},
   "source": [
    "Kedua datasetnya tidak ada yang duplikat\n",
    "\n",
    "---"
   ]
  },
  {
   "cell_type": "markdown",
   "metadata": {},
   "source": [
    "- 1.2.3 Memeriksa Nilai yang Hilang"
   ]
  },
  {
   "cell_type": "code",
   "execution_count": 7,
   "metadata": {},
   "outputs": [
    {
     "name": "stdout",
     "output_type": "stream",
     "text": [
      "day \n",
      " instant       0\n",
      "dteday        0\n",
      "season        0\n",
      "yr            0\n",
      "mnth          0\n",
      "holiday       0\n",
      "weekday       0\n",
      "workingday    0\n",
      "weathersit    0\n",
      "temp          0\n",
      "atemp         0\n",
      "hum           0\n",
      "windspeed     0\n",
      "casual        0\n",
      "registered    0\n",
      "cnt           0\n",
      "dtype: int64 \n",
      "\n",
      "hour \n",
      " instant       0\n",
      "dteday        0\n",
      "season        0\n",
      "yr            0\n",
      "mnth          0\n",
      "hr            0\n",
      "holiday       0\n",
      "weekday       0\n",
      "workingday    0\n",
      "weathersit    0\n",
      "temp          0\n",
      "atemp         0\n",
      "hum           0\n",
      "windspeed     0\n",
      "casual        0\n",
      "registered    0\n",
      "cnt           0\n",
      "dtype: int64 \n",
      "\n"
     ]
    }
   ],
   "source": [
    "null_counts = {}\n",
    "\n",
    "for df_name, df in data.items():\n",
    "    null_counts[df_name] = df.isna().sum()\n",
    "    print(df_name, '\\n', null_counts[df_name], '\\n')"
   ]
  },
  {
   "cell_type": "markdown",
   "metadata": {},
   "source": [
    "Tidak ada nilai yang hilang *(missing value)* di kedua dataset\n",
    "\n",
    "---"
   ]
  },
  {
   "cell_type": "code",
   "execution_count": 8,
   "metadata": {},
   "outputs": [
    {
     "data": {
      "text/html": [
       "<div>\n",
       "<style scoped>\n",
       "    .dataframe tbody tr th:only-of-type {\n",
       "        vertical-align: middle;\n",
       "    }\n",
       "\n",
       "    .dataframe tbody tr th {\n",
       "        vertical-align: top;\n",
       "    }\n",
       "\n",
       "    .dataframe thead th {\n",
       "        text-align: right;\n",
       "    }\n",
       "</style>\n",
       "<table border=\"1\" class=\"dataframe\">\n",
       "  <thead>\n",
       "    <tr style=\"text-align: right;\">\n",
       "      <th></th>\n",
       "      <th>instant</th>\n",
       "      <th>season</th>\n",
       "      <th>yr</th>\n",
       "      <th>mnth</th>\n",
       "      <th>holiday</th>\n",
       "      <th>weekday</th>\n",
       "      <th>workingday</th>\n",
       "      <th>weathersit</th>\n",
       "      <th>temp</th>\n",
       "      <th>atemp</th>\n",
       "      <th>hum</th>\n",
       "      <th>windspeed</th>\n",
       "      <th>casual</th>\n",
       "      <th>registered</th>\n",
       "      <th>cnt</th>\n",
       "    </tr>\n",
       "  </thead>\n",
       "  <tbody>\n",
       "    <tr>\n",
       "      <th>count</th>\n",
       "      <td>731.000000</td>\n",
       "      <td>731.000000</td>\n",
       "      <td>731.000000</td>\n",
       "      <td>731.000000</td>\n",
       "      <td>731.000000</td>\n",
       "      <td>731.000000</td>\n",
       "      <td>731.000000</td>\n",
       "      <td>731.000000</td>\n",
       "      <td>731.000000</td>\n",
       "      <td>731.000000</td>\n",
       "      <td>731.000000</td>\n",
       "      <td>731.000000</td>\n",
       "      <td>731.000000</td>\n",
       "      <td>731.000000</td>\n",
       "      <td>731.000000</td>\n",
       "    </tr>\n",
       "    <tr>\n",
       "      <th>mean</th>\n",
       "      <td>366.000000</td>\n",
       "      <td>2.496580</td>\n",
       "      <td>0.500684</td>\n",
       "      <td>6.519836</td>\n",
       "      <td>0.028728</td>\n",
       "      <td>2.997264</td>\n",
       "      <td>0.683995</td>\n",
       "      <td>1.395349</td>\n",
       "      <td>0.495385</td>\n",
       "      <td>0.474354</td>\n",
       "      <td>0.627894</td>\n",
       "      <td>0.190486</td>\n",
       "      <td>848.176471</td>\n",
       "      <td>3656.172367</td>\n",
       "      <td>4504.348837</td>\n",
       "    </tr>\n",
       "    <tr>\n",
       "      <th>std</th>\n",
       "      <td>211.165812</td>\n",
       "      <td>1.110807</td>\n",
       "      <td>0.500342</td>\n",
       "      <td>3.451913</td>\n",
       "      <td>0.167155</td>\n",
       "      <td>2.004787</td>\n",
       "      <td>0.465233</td>\n",
       "      <td>0.544894</td>\n",
       "      <td>0.183051</td>\n",
       "      <td>0.162961</td>\n",
       "      <td>0.142429</td>\n",
       "      <td>0.077498</td>\n",
       "      <td>686.622488</td>\n",
       "      <td>1560.256377</td>\n",
       "      <td>1937.211452</td>\n",
       "    </tr>\n",
       "    <tr>\n",
       "      <th>min</th>\n",
       "      <td>1.000000</td>\n",
       "      <td>1.000000</td>\n",
       "      <td>0.000000</td>\n",
       "      <td>1.000000</td>\n",
       "      <td>0.000000</td>\n",
       "      <td>0.000000</td>\n",
       "      <td>0.000000</td>\n",
       "      <td>1.000000</td>\n",
       "      <td>0.059130</td>\n",
       "      <td>0.079070</td>\n",
       "      <td>0.000000</td>\n",
       "      <td>0.022392</td>\n",
       "      <td>2.000000</td>\n",
       "      <td>20.000000</td>\n",
       "      <td>22.000000</td>\n",
       "    </tr>\n",
       "    <tr>\n",
       "      <th>25%</th>\n",
       "      <td>183.500000</td>\n",
       "      <td>2.000000</td>\n",
       "      <td>0.000000</td>\n",
       "      <td>4.000000</td>\n",
       "      <td>0.000000</td>\n",
       "      <td>1.000000</td>\n",
       "      <td>0.000000</td>\n",
       "      <td>1.000000</td>\n",
       "      <td>0.337083</td>\n",
       "      <td>0.337842</td>\n",
       "      <td>0.520000</td>\n",
       "      <td>0.134950</td>\n",
       "      <td>315.500000</td>\n",
       "      <td>2497.000000</td>\n",
       "      <td>3152.000000</td>\n",
       "    </tr>\n",
       "    <tr>\n",
       "      <th>50%</th>\n",
       "      <td>366.000000</td>\n",
       "      <td>3.000000</td>\n",
       "      <td>1.000000</td>\n",
       "      <td>7.000000</td>\n",
       "      <td>0.000000</td>\n",
       "      <td>3.000000</td>\n",
       "      <td>1.000000</td>\n",
       "      <td>1.000000</td>\n",
       "      <td>0.498333</td>\n",
       "      <td>0.486733</td>\n",
       "      <td>0.626667</td>\n",
       "      <td>0.180975</td>\n",
       "      <td>713.000000</td>\n",
       "      <td>3662.000000</td>\n",
       "      <td>4548.000000</td>\n",
       "    </tr>\n",
       "    <tr>\n",
       "      <th>75%</th>\n",
       "      <td>548.500000</td>\n",
       "      <td>3.000000</td>\n",
       "      <td>1.000000</td>\n",
       "      <td>10.000000</td>\n",
       "      <td>0.000000</td>\n",
       "      <td>5.000000</td>\n",
       "      <td>1.000000</td>\n",
       "      <td>2.000000</td>\n",
       "      <td>0.655417</td>\n",
       "      <td>0.608602</td>\n",
       "      <td>0.730209</td>\n",
       "      <td>0.233214</td>\n",
       "      <td>1096.000000</td>\n",
       "      <td>4776.500000</td>\n",
       "      <td>5956.000000</td>\n",
       "    </tr>\n",
       "    <tr>\n",
       "      <th>max</th>\n",
       "      <td>731.000000</td>\n",
       "      <td>4.000000</td>\n",
       "      <td>1.000000</td>\n",
       "      <td>12.000000</td>\n",
       "      <td>1.000000</td>\n",
       "      <td>6.000000</td>\n",
       "      <td>1.000000</td>\n",
       "      <td>3.000000</td>\n",
       "      <td>0.861667</td>\n",
       "      <td>0.840896</td>\n",
       "      <td>0.972500</td>\n",
       "      <td>0.507463</td>\n",
       "      <td>3410.000000</td>\n",
       "      <td>6946.000000</td>\n",
       "      <td>8714.000000</td>\n",
       "    </tr>\n",
       "  </tbody>\n",
       "</table>\n",
       "</div>"
      ],
      "text/plain": [
       "          instant      season          yr        mnth     holiday     weekday  \\\n",
       "count  731.000000  731.000000  731.000000  731.000000  731.000000  731.000000   \n",
       "mean   366.000000    2.496580    0.500684    6.519836    0.028728    2.997264   \n",
       "std    211.165812    1.110807    0.500342    3.451913    0.167155    2.004787   \n",
       "min      1.000000    1.000000    0.000000    1.000000    0.000000    0.000000   \n",
       "25%    183.500000    2.000000    0.000000    4.000000    0.000000    1.000000   \n",
       "50%    366.000000    3.000000    1.000000    7.000000    0.000000    3.000000   \n",
       "75%    548.500000    3.000000    1.000000   10.000000    0.000000    5.000000   \n",
       "max    731.000000    4.000000    1.000000   12.000000    1.000000    6.000000   \n",
       "\n",
       "       workingday  weathersit        temp       atemp         hum   windspeed  \\\n",
       "count  731.000000  731.000000  731.000000  731.000000  731.000000  731.000000   \n",
       "mean     0.683995    1.395349    0.495385    0.474354    0.627894    0.190486   \n",
       "std      0.465233    0.544894    0.183051    0.162961    0.142429    0.077498   \n",
       "min      0.000000    1.000000    0.059130    0.079070    0.000000    0.022392   \n",
       "25%      0.000000    1.000000    0.337083    0.337842    0.520000    0.134950   \n",
       "50%      1.000000    1.000000    0.498333    0.486733    0.626667    0.180975   \n",
       "75%      1.000000    2.000000    0.655417    0.608602    0.730209    0.233214   \n",
       "max      1.000000    3.000000    0.861667    0.840896    0.972500    0.507463   \n",
       "\n",
       "            casual   registered          cnt  \n",
       "count   731.000000   731.000000   731.000000  \n",
       "mean    848.176471  3656.172367  4504.348837  \n",
       "std     686.622488  1560.256377  1937.211452  \n",
       "min       2.000000    20.000000    22.000000  \n",
       "25%     315.500000  2497.000000  3152.000000  \n",
       "50%     713.000000  3662.000000  4548.000000  \n",
       "75%    1096.000000  4776.500000  5956.000000  \n",
       "max    3410.000000  6946.000000  8714.000000  "
      ]
     },
     "execution_count": 8,
     "metadata": {},
     "output_type": "execute_result"
    }
   ],
   "source": [
    "day.describe()"
   ]
  },
  {
   "cell_type": "markdown",
   "metadata": {},
   "source": [
    "Ini adalah parameter statistik dari kolom numerik yang terdapat didalam data **day**\n",
    "\n",
    "---"
   ]
  },
  {
   "cell_type": "code",
   "execution_count": 9,
   "metadata": {},
   "outputs": [
    {
     "data": {
      "text/html": [
       "<div>\n",
       "<style scoped>\n",
       "    .dataframe tbody tr th:only-of-type {\n",
       "        vertical-align: middle;\n",
       "    }\n",
       "\n",
       "    .dataframe tbody tr th {\n",
       "        vertical-align: top;\n",
       "    }\n",
       "\n",
       "    .dataframe thead th {\n",
       "        text-align: right;\n",
       "    }\n",
       "</style>\n",
       "<table border=\"1\" class=\"dataframe\">\n",
       "  <thead>\n",
       "    <tr style=\"text-align: right;\">\n",
       "      <th></th>\n",
       "      <th>instant</th>\n",
       "      <th>season</th>\n",
       "      <th>yr</th>\n",
       "      <th>mnth</th>\n",
       "      <th>hr</th>\n",
       "      <th>holiday</th>\n",
       "      <th>weekday</th>\n",
       "      <th>workingday</th>\n",
       "      <th>weathersit</th>\n",
       "      <th>temp</th>\n",
       "      <th>atemp</th>\n",
       "      <th>hum</th>\n",
       "      <th>windspeed</th>\n",
       "      <th>casual</th>\n",
       "      <th>registered</th>\n",
       "      <th>cnt</th>\n",
       "    </tr>\n",
       "  </thead>\n",
       "  <tbody>\n",
       "    <tr>\n",
       "      <th>count</th>\n",
       "      <td>17379.0000</td>\n",
       "      <td>17379.000000</td>\n",
       "      <td>17379.000000</td>\n",
       "      <td>17379.000000</td>\n",
       "      <td>17379.000000</td>\n",
       "      <td>17379.000000</td>\n",
       "      <td>17379.000000</td>\n",
       "      <td>17379.000000</td>\n",
       "      <td>17379.000000</td>\n",
       "      <td>17379.000000</td>\n",
       "      <td>17379.000000</td>\n",
       "      <td>17379.000000</td>\n",
       "      <td>17379.000000</td>\n",
       "      <td>17379.000000</td>\n",
       "      <td>17379.000000</td>\n",
       "      <td>17379.000000</td>\n",
       "    </tr>\n",
       "    <tr>\n",
       "      <th>mean</th>\n",
       "      <td>8690.0000</td>\n",
       "      <td>2.501640</td>\n",
       "      <td>0.502561</td>\n",
       "      <td>6.537775</td>\n",
       "      <td>11.546752</td>\n",
       "      <td>0.028770</td>\n",
       "      <td>3.003683</td>\n",
       "      <td>0.682721</td>\n",
       "      <td>1.425283</td>\n",
       "      <td>0.496987</td>\n",
       "      <td>0.475775</td>\n",
       "      <td>0.627229</td>\n",
       "      <td>0.190098</td>\n",
       "      <td>35.676218</td>\n",
       "      <td>153.786869</td>\n",
       "      <td>189.463088</td>\n",
       "    </tr>\n",
       "    <tr>\n",
       "      <th>std</th>\n",
       "      <td>5017.0295</td>\n",
       "      <td>1.106918</td>\n",
       "      <td>0.500008</td>\n",
       "      <td>3.438776</td>\n",
       "      <td>6.914405</td>\n",
       "      <td>0.167165</td>\n",
       "      <td>2.005771</td>\n",
       "      <td>0.465431</td>\n",
       "      <td>0.639357</td>\n",
       "      <td>0.192556</td>\n",
       "      <td>0.171850</td>\n",
       "      <td>0.192930</td>\n",
       "      <td>0.122340</td>\n",
       "      <td>49.305030</td>\n",
       "      <td>151.357286</td>\n",
       "      <td>181.387599</td>\n",
       "    </tr>\n",
       "    <tr>\n",
       "      <th>min</th>\n",
       "      <td>1.0000</td>\n",
       "      <td>1.000000</td>\n",
       "      <td>0.000000</td>\n",
       "      <td>1.000000</td>\n",
       "      <td>0.000000</td>\n",
       "      <td>0.000000</td>\n",
       "      <td>0.000000</td>\n",
       "      <td>0.000000</td>\n",
       "      <td>1.000000</td>\n",
       "      <td>0.020000</td>\n",
       "      <td>0.000000</td>\n",
       "      <td>0.000000</td>\n",
       "      <td>0.000000</td>\n",
       "      <td>0.000000</td>\n",
       "      <td>0.000000</td>\n",
       "      <td>1.000000</td>\n",
       "    </tr>\n",
       "    <tr>\n",
       "      <th>25%</th>\n",
       "      <td>4345.5000</td>\n",
       "      <td>2.000000</td>\n",
       "      <td>0.000000</td>\n",
       "      <td>4.000000</td>\n",
       "      <td>6.000000</td>\n",
       "      <td>0.000000</td>\n",
       "      <td>1.000000</td>\n",
       "      <td>0.000000</td>\n",
       "      <td>1.000000</td>\n",
       "      <td>0.340000</td>\n",
       "      <td>0.333300</td>\n",
       "      <td>0.480000</td>\n",
       "      <td>0.104500</td>\n",
       "      <td>4.000000</td>\n",
       "      <td>34.000000</td>\n",
       "      <td>40.000000</td>\n",
       "    </tr>\n",
       "    <tr>\n",
       "      <th>50%</th>\n",
       "      <td>8690.0000</td>\n",
       "      <td>3.000000</td>\n",
       "      <td>1.000000</td>\n",
       "      <td>7.000000</td>\n",
       "      <td>12.000000</td>\n",
       "      <td>0.000000</td>\n",
       "      <td>3.000000</td>\n",
       "      <td>1.000000</td>\n",
       "      <td>1.000000</td>\n",
       "      <td>0.500000</td>\n",
       "      <td>0.484800</td>\n",
       "      <td>0.630000</td>\n",
       "      <td>0.194000</td>\n",
       "      <td>17.000000</td>\n",
       "      <td>115.000000</td>\n",
       "      <td>142.000000</td>\n",
       "    </tr>\n",
       "    <tr>\n",
       "      <th>75%</th>\n",
       "      <td>13034.5000</td>\n",
       "      <td>3.000000</td>\n",
       "      <td>1.000000</td>\n",
       "      <td>10.000000</td>\n",
       "      <td>18.000000</td>\n",
       "      <td>0.000000</td>\n",
       "      <td>5.000000</td>\n",
       "      <td>1.000000</td>\n",
       "      <td>2.000000</td>\n",
       "      <td>0.660000</td>\n",
       "      <td>0.621200</td>\n",
       "      <td>0.780000</td>\n",
       "      <td>0.253700</td>\n",
       "      <td>48.000000</td>\n",
       "      <td>220.000000</td>\n",
       "      <td>281.000000</td>\n",
       "    </tr>\n",
       "    <tr>\n",
       "      <th>max</th>\n",
       "      <td>17379.0000</td>\n",
       "      <td>4.000000</td>\n",
       "      <td>1.000000</td>\n",
       "      <td>12.000000</td>\n",
       "      <td>23.000000</td>\n",
       "      <td>1.000000</td>\n",
       "      <td>6.000000</td>\n",
       "      <td>1.000000</td>\n",
       "      <td>4.000000</td>\n",
       "      <td>1.000000</td>\n",
       "      <td>1.000000</td>\n",
       "      <td>1.000000</td>\n",
       "      <td>0.850700</td>\n",
       "      <td>367.000000</td>\n",
       "      <td>886.000000</td>\n",
       "      <td>977.000000</td>\n",
       "    </tr>\n",
       "  </tbody>\n",
       "</table>\n",
       "</div>"
      ],
      "text/plain": [
       "          instant        season            yr          mnth            hr  \\\n",
       "count  17379.0000  17379.000000  17379.000000  17379.000000  17379.000000   \n",
       "mean    8690.0000      2.501640      0.502561      6.537775     11.546752   \n",
       "std     5017.0295      1.106918      0.500008      3.438776      6.914405   \n",
       "min        1.0000      1.000000      0.000000      1.000000      0.000000   \n",
       "25%     4345.5000      2.000000      0.000000      4.000000      6.000000   \n",
       "50%     8690.0000      3.000000      1.000000      7.000000     12.000000   \n",
       "75%    13034.5000      3.000000      1.000000     10.000000     18.000000   \n",
       "max    17379.0000      4.000000      1.000000     12.000000     23.000000   \n",
       "\n",
       "            holiday       weekday    workingday    weathersit          temp  \\\n",
       "count  17379.000000  17379.000000  17379.000000  17379.000000  17379.000000   \n",
       "mean       0.028770      3.003683      0.682721      1.425283      0.496987   \n",
       "std        0.167165      2.005771      0.465431      0.639357      0.192556   \n",
       "min        0.000000      0.000000      0.000000      1.000000      0.020000   \n",
       "25%        0.000000      1.000000      0.000000      1.000000      0.340000   \n",
       "50%        0.000000      3.000000      1.000000      1.000000      0.500000   \n",
       "75%        0.000000      5.000000      1.000000      2.000000      0.660000   \n",
       "max        1.000000      6.000000      1.000000      4.000000      1.000000   \n",
       "\n",
       "              atemp           hum     windspeed        casual    registered  \\\n",
       "count  17379.000000  17379.000000  17379.000000  17379.000000  17379.000000   \n",
       "mean       0.475775      0.627229      0.190098     35.676218    153.786869   \n",
       "std        0.171850      0.192930      0.122340     49.305030    151.357286   \n",
       "min        0.000000      0.000000      0.000000      0.000000      0.000000   \n",
       "25%        0.333300      0.480000      0.104500      4.000000     34.000000   \n",
       "50%        0.484800      0.630000      0.194000     17.000000    115.000000   \n",
       "75%        0.621200      0.780000      0.253700     48.000000    220.000000   \n",
       "max        1.000000      1.000000      0.850700    367.000000    886.000000   \n",
       "\n",
       "                cnt  \n",
       "count  17379.000000  \n",
       "mean     189.463088  \n",
       "std      181.387599  \n",
       "min        1.000000  \n",
       "25%       40.000000  \n",
       "50%      142.000000  \n",
       "75%      281.000000  \n",
       "max      977.000000  "
      ]
     },
     "execution_count": 9,
     "metadata": {},
     "output_type": "execute_result"
    }
   ],
   "source": [
    "hour.describe()"
   ]
  },
  {
   "cell_type": "markdown",
   "metadata": {},
   "source": [
    "Ini adalah parameter statistik dari kolom numerik yang terdapat didalam data **hour**\n",
    "\n",
    "---"
   ]
  },
  {
   "cell_type": "markdown",
   "metadata": {
    "id": "7dtxhAPrkhPL"
   },
   "source": [
    "**Insight:**\n",
    "- Memeriksa dan menelusuri data yang hilang maupun kosong terhadap dataset **day** dan **hour**\n",
    "- Semua data terisi dan tidak hilang\n",
    "- Tidak memiliki data yang terduplikasi\n",
    "\n",
    "---"
   ]
  },
  {
   "cell_type": "markdown",
   "metadata": {
    "id": "EhN5R4hr8DC1"
   },
   "source": [
    "### 1.3 Cleaning Data\n",
    "\n",
    "saya memeriksa datanya terlebih dahulu;"
   ]
  },
  {
   "cell_type": "code",
   "execution_count": 10,
   "metadata": {},
   "outputs": [
    {
     "name": "stdout",
     "output_type": "stream",
     "text": [
      "instant       0\n",
      "dteday        0\n",
      "season        0\n",
      "yr            0\n",
      "mnth          0\n",
      "holiday       0\n",
      "weekday       0\n",
      "workingday    0\n",
      "weathersit    0\n",
      "temp          0\n",
      "atemp         0\n",
      "hum           0\n",
      "windspeed     0\n",
      "casual        0\n",
      "registered    0\n",
      "cnt           0\n",
      "dtype: int64\n"
     ]
    }
   ],
   "source": [
    "print(day.isnull().sum())"
   ]
  },
  {
   "cell_type": "markdown",
   "metadata": {},
   "source": [
    "Disini saya memeriksa kembali agar tabel **day** tidak ada nilai yang kosong, maka dari itu tidak perlu ada nilai yang harus diisi\n",
    "\n",
    "---"
   ]
  },
  {
   "cell_type": "code",
   "execution_count": 11,
   "metadata": {},
   "outputs": [
    {
     "name": "stdout",
     "output_type": "stream",
     "text": [
      "instant       0\n",
      "dteday        0\n",
      "season        0\n",
      "yr            0\n",
      "mnth          0\n",
      "hr            0\n",
      "holiday       0\n",
      "weekday       0\n",
      "workingday    0\n",
      "weathersit    0\n",
      "temp          0\n",
      "atemp         0\n",
      "hum           0\n",
      "windspeed     0\n",
      "casual        0\n",
      "registered    0\n",
      "cnt           0\n",
      "dtype: int64\n"
     ]
    }
   ],
   "source": [
    "print(hour.isnull().sum())"
   ]
  },
  {
   "cell_type": "markdown",
   "metadata": {},
   "source": [
    "Disini saya memeriksa kembali agar tabel **hour**  tidak ada nilai yang kosong, maka dari itu tidak perlu ada nilai yang harus diisi\n",
    "\n",
    "---"
   ]
  },
  {
   "cell_type": "markdown",
   "metadata": {},
   "source": [
    "1.3.1 Ubah Tipe Data"
   ]
  },
  {
   "cell_type": "code",
   "execution_count": 12,
   "metadata": {},
   "outputs": [
    {
     "name": "stdout",
     "output_type": "stream",
     "text": [
      "\n",
      "=== Informasi untuk DataFrame day ===\n",
      "<class 'pandas.core.frame.DataFrame'>\n",
      "RangeIndex: 731 entries, 0 to 730\n",
      "Data columns (total 16 columns):\n",
      " #   Column      Non-Null Count  Dtype  \n",
      "---  ------      --------------  -----  \n",
      " 0   instant     731 non-null    int64  \n",
      " 1   dteday      731 non-null    object \n",
      " 2   season      731 non-null    int64  \n",
      " 3   yr          731 non-null    int64  \n",
      " 4   mnth        731 non-null    int64  \n",
      " 5   holiday     731 non-null    int64  \n",
      " 6   weekday     731 non-null    int64  \n",
      " 7   workingday  731 non-null    int64  \n",
      " 8   weathersit  731 non-null    int64  \n",
      " 9   temp        731 non-null    float64\n",
      " 10  atemp       731 non-null    float64\n",
      " 11  hum         731 non-null    float64\n",
      " 12  windspeed   731 non-null    float64\n",
      " 13  casual      731 non-null    int64  \n",
      " 14  registered  731 non-null    int64  \n",
      " 15  cnt         731 non-null    int64  \n",
      "dtypes: float64(4), int64(11), object(1)\n",
      "memory usage: 91.5+ KB\n",
      "None\n",
      "\n",
      "=== Informasi untuk DataFrame hour ===\n",
      "<class 'pandas.core.frame.DataFrame'>\n",
      "RangeIndex: 17379 entries, 0 to 17378\n",
      "Data columns (total 17 columns):\n",
      " #   Column      Non-Null Count  Dtype  \n",
      "---  ------      --------------  -----  \n",
      " 0   instant     17379 non-null  int64  \n",
      " 1   dteday      17379 non-null  object \n",
      " 2   season      17379 non-null  int64  \n",
      " 3   yr          17379 non-null  int64  \n",
      " 4   mnth        17379 non-null  int64  \n",
      " 5   hr          17379 non-null  int64  \n",
      " 6   holiday     17379 non-null  int64  \n",
      " 7   weekday     17379 non-null  int64  \n",
      " 8   workingday  17379 non-null  int64  \n",
      " 9   weathersit  17379 non-null  int64  \n",
      " 10  temp        17379 non-null  float64\n",
      " 11  atemp       17379 non-null  float64\n",
      " 12  hum         17379 non-null  float64\n",
      " 13  windspeed   17379 non-null  float64\n",
      " 14  casual      17379 non-null  int64  \n",
      " 15  registered  17379 non-null  int64  \n",
      " 16  cnt         17379 non-null  int64  \n",
      "dtypes: float64(4), int64(12), object(1)\n",
      "memory usage: 2.3+ MB\n",
      "None\n"
     ]
    }
   ],
   "source": [
    "for df_name, df in data.items():\n",
    "    print(f'\\n=== Informasi untuk DataFrame {df_name} ===')\n",
    "    print(df.info())"
   ]
  },
  {
   "cell_type": "markdown",
   "metadata": {},
   "source": [
    "Menampilkan kolom dan tipe data apa saja yang terisi di dalam data **day** dan **hour**\n",
    "\n",
    "---"
   ]
  },
  {
   "cell_type": "code",
   "execution_count": 13,
   "metadata": {},
   "outputs": [],
   "source": [
    "columns = ['season', 'mnth', 'holiday', 'weekday', 'weathersit']\n",
    "\n",
    "for column in columns:\n",
    "    day[column] =  day[column].astype(\"category\")\n",
    "    hour[column] =  hour[column].astype(\"category\")"
   ]
  },
  {
   "cell_type": "markdown",
   "metadata": {},
   "source": [
    "Yang saya ubah disini adalah kolom *season, mnth, holiday, weekday, weathersit* dari *int* menjadi *category* karena kolom ini akan saya gunakan untuk analisis dan menjawab pertanyaan dan memiliki data dengan beberapa varian\n",
    "\n",
    "---"
   ]
  },
  {
   "cell_type": "code",
   "execution_count": 14,
   "metadata": {},
   "outputs": [
    {
     "data": {
      "text/html": [
       "<div>\n",
       "<style scoped>\n",
       "    .dataframe tbody tr th:only-of-type {\n",
       "        vertical-align: middle;\n",
       "    }\n",
       "\n",
       "    .dataframe tbody tr th {\n",
       "        vertical-align: top;\n",
       "    }\n",
       "\n",
       "    .dataframe thead th {\n",
       "        text-align: right;\n",
       "    }\n",
       "</style>\n",
       "<table border=\"1\" class=\"dataframe\">\n",
       "  <thead>\n",
       "    <tr style=\"text-align: right;\">\n",
       "      <th></th>\n",
       "      <th>season</th>\n",
       "      <th>mnth</th>\n",
       "      <th>holiday</th>\n",
       "      <th>weekday</th>\n",
       "      <th>weathersit</th>\n",
       "    </tr>\n",
       "  </thead>\n",
       "  <tbody>\n",
       "    <tr>\n",
       "      <th>count</th>\n",
       "      <td>731</td>\n",
       "      <td>731</td>\n",
       "      <td>731</td>\n",
       "      <td>731</td>\n",
       "      <td>731</td>\n",
       "    </tr>\n",
       "    <tr>\n",
       "      <th>unique</th>\n",
       "      <td>4</td>\n",
       "      <td>12</td>\n",
       "      <td>2</td>\n",
       "      <td>7</td>\n",
       "      <td>3</td>\n",
       "    </tr>\n",
       "    <tr>\n",
       "      <th>top</th>\n",
       "      <td>3</td>\n",
       "      <td>1</td>\n",
       "      <td>0</td>\n",
       "      <td>0</td>\n",
       "      <td>1</td>\n",
       "    </tr>\n",
       "    <tr>\n",
       "      <th>freq</th>\n",
       "      <td>188</td>\n",
       "      <td>62</td>\n",
       "      <td>710</td>\n",
       "      <td>105</td>\n",
       "      <td>463</td>\n",
       "    </tr>\n",
       "  </tbody>\n",
       "</table>\n",
       "</div>"
      ],
      "text/plain": [
       "        season  mnth  holiday  weekday  weathersit\n",
       "count      731   731      731      731         731\n",
       "unique       4    12        2        7           3\n",
       "top          3     1        0        0           1\n",
       "freq       188    62      710      105         463"
      ]
     },
     "execution_count": 14,
     "metadata": {},
     "output_type": "execute_result"
    }
   ],
   "source": [
    "day.describe(include=['category'])"
   ]
  },
  {
   "cell_type": "markdown",
   "metadata": {},
   "source": [
    "Mendeskripsikan data **day** untuk *category*\n",
    "\n",
    "---"
   ]
  },
  {
   "cell_type": "code",
   "execution_count": 15,
   "metadata": {},
   "outputs": [
    {
     "data": {
      "text/html": [
       "<div>\n",
       "<style scoped>\n",
       "    .dataframe tbody tr th:only-of-type {\n",
       "        vertical-align: middle;\n",
       "    }\n",
       "\n",
       "    .dataframe tbody tr th {\n",
       "        vertical-align: top;\n",
       "    }\n",
       "\n",
       "    .dataframe thead th {\n",
       "        text-align: right;\n",
       "    }\n",
       "</style>\n",
       "<table border=\"1\" class=\"dataframe\">\n",
       "  <thead>\n",
       "    <tr style=\"text-align: right;\">\n",
       "      <th></th>\n",
       "      <th>season</th>\n",
       "      <th>mnth</th>\n",
       "      <th>holiday</th>\n",
       "      <th>weekday</th>\n",
       "      <th>weathersit</th>\n",
       "    </tr>\n",
       "  </thead>\n",
       "  <tbody>\n",
       "    <tr>\n",
       "      <th>count</th>\n",
       "      <td>17379</td>\n",
       "      <td>17379</td>\n",
       "      <td>17379</td>\n",
       "      <td>17379</td>\n",
       "      <td>17379</td>\n",
       "    </tr>\n",
       "    <tr>\n",
       "      <th>unique</th>\n",
       "      <td>4</td>\n",
       "      <td>12</td>\n",
       "      <td>2</td>\n",
       "      <td>7</td>\n",
       "      <td>4</td>\n",
       "    </tr>\n",
       "    <tr>\n",
       "      <th>top</th>\n",
       "      <td>3</td>\n",
       "      <td>7</td>\n",
       "      <td>0</td>\n",
       "      <td>6</td>\n",
       "      <td>1</td>\n",
       "    </tr>\n",
       "    <tr>\n",
       "      <th>freq</th>\n",
       "      <td>4496</td>\n",
       "      <td>1488</td>\n",
       "      <td>16879</td>\n",
       "      <td>2512</td>\n",
       "      <td>11413</td>\n",
       "    </tr>\n",
       "  </tbody>\n",
       "</table>\n",
       "</div>"
      ],
      "text/plain": [
       "        season   mnth  holiday  weekday  weathersit\n",
       "count    17379  17379    17379    17379       17379\n",
       "unique       4     12        2        7           4\n",
       "top          3      7        0        6           1\n",
       "freq      4496   1488    16879     2512       11413"
      ]
     },
     "execution_count": 15,
     "metadata": {},
     "output_type": "execute_result"
    }
   ],
   "source": [
    "hour.describe(include=['category'])"
   ]
  },
  {
   "cell_type": "markdown",
   "metadata": {},
   "source": [
    "Mendeskripsikan data **hour** untuk *category*\n",
    "\n",
    "---"
   ]
  },
  {
   "cell_type": "code",
   "execution_count": 16,
   "metadata": {},
   "outputs": [],
   "source": [
    "day['dteday'] = pd.to_datetime(day['dteday'])\n",
    "hour['dteday'] = pd.to_datetime(hour['dteday'])"
   ]
  },
  {
   "cell_type": "code",
   "execution_count": 17,
   "metadata": {},
   "outputs": [
    {
     "name": "stdout",
     "output_type": "stream",
     "text": [
      "Tipe data kolom 'dteday' di DataFrame day : datetime64[ns]\n",
      "Tipe data kolom 'dteday' di DataFrame hour : datetime64[ns]\n"
     ]
    }
   ],
   "source": [
    "print(\"Tipe data kolom 'dteday' di DataFrame day :\", day['dteday'].dtype)\n",
    "print(\"Tipe data kolom 'dteday' di DataFrame hour :\", hour['dteday'].dtype)"
   ]
  },
  {
   "cell_type": "markdown",
   "metadata": {},
   "source": [
    "Saya merubah kolom dteday yang tadinya *object* menjadi *datetime*\n",
    "\n",
    "---"
   ]
  },
  {
   "cell_type": "code",
   "execution_count": 18,
   "metadata": {},
   "outputs": [
    {
     "name": "stdout",
     "output_type": "stream",
     "text": [
      "count                    731\n",
      "mean     2012-01-01 00:00:00\n",
      "min      2011-01-01 00:00:00\n",
      "25%      2011-07-02 12:00:00\n",
      "50%      2012-01-01 00:00:00\n",
      "75%      2012-07-01 12:00:00\n",
      "max      2012-12-31 00:00:00\n",
      "Name: dteday, dtype: object\n",
      "count                            17379\n",
      "mean     2012-01-02 04:08:34.552045568\n",
      "min                2011-01-01 00:00:00\n",
      "25%                2011-07-04 00:00:00\n",
      "50%                2012-01-02 00:00:00\n",
      "75%                2012-07-02 00:00:00\n",
      "max                2012-12-31 00:00:00\n",
      "Name: dteday, dtype: object\n"
     ]
    }
   ],
   "source": [
    "print(day['dteday'].describe())\n",
    "print(hour['dteday'].describe())"
   ]
  },
  {
   "cell_type": "markdown",
   "metadata": {},
   "source": [
    "Ini adalah hasil perubahan *object* menjadi *datetime* supaya lebih mudah digunakan untuk manipulasi waktu (seperti ekstraksi hari, bulan, tahun, dll.).\n",
    "\n",
    "---"
   ]
  },
  {
   "cell_type": "code",
   "execution_count": 19,
   "metadata": {},
   "outputs": [
    {
     "name": "stdout",
     "output_type": "stream",
     "text": [
      "\n",
      "~~~ Informasi untuk DataFrame day ~~~\n",
      "<class 'pandas.core.frame.DataFrame'>\n",
      "RangeIndex: 731 entries, 0 to 730\n",
      "Data columns (total 16 columns):\n",
      " #   Column      Non-Null Count  Dtype         \n",
      "---  ------      --------------  -----         \n",
      " 0   instant     731 non-null    int64         \n",
      " 1   dteday      731 non-null    datetime64[ns]\n",
      " 2   season      731 non-null    category      \n",
      " 3   yr          731 non-null    int64         \n",
      " 4   mnth        731 non-null    category      \n",
      " 5   holiday     731 non-null    category      \n",
      " 6   weekday     731 non-null    category      \n",
      " 7   workingday  731 non-null    int64         \n",
      " 8   weathersit  731 non-null    category      \n",
      " 9   temp        731 non-null    float64       \n",
      " 10  atemp       731 non-null    float64       \n",
      " 11  hum         731 non-null    float64       \n",
      " 12  windspeed   731 non-null    float64       \n",
      " 13  casual      731 non-null    int64         \n",
      " 14  registered  731 non-null    int64         \n",
      " 15  cnt         731 non-null    int64         \n",
      "dtypes: category(5), datetime64[ns](1), float64(4), int64(6)\n",
      "memory usage: 67.7 KB\n",
      "None\n",
      "\n",
      "~~~ Informasi untuk DataFrame hour ~~~\n",
      "<class 'pandas.core.frame.DataFrame'>\n",
      "RangeIndex: 17379 entries, 0 to 17378\n",
      "Data columns (total 17 columns):\n",
      " #   Column      Non-Null Count  Dtype         \n",
      "---  ------      --------------  -----         \n",
      " 0   instant     17379 non-null  int64         \n",
      " 1   dteday      17379 non-null  datetime64[ns]\n",
      " 2   season      17379 non-null  category      \n",
      " 3   yr          17379 non-null  int64         \n",
      " 4   mnth        17379 non-null  category      \n",
      " 5   hr          17379 non-null  int64         \n",
      " 6   holiday     17379 non-null  category      \n",
      " 7   weekday     17379 non-null  category      \n",
      " 8   workingday  17379 non-null  int64         \n",
      " 9   weathersit  17379 non-null  category      \n",
      " 10  temp        17379 non-null  float64       \n",
      " 11  atemp       17379 non-null  float64       \n",
      " 12  hum         17379 non-null  float64       \n",
      " 13  windspeed   17379 non-null  float64       \n",
      " 14  casual      17379 non-null  int64         \n",
      " 15  registered  17379 non-null  int64         \n",
      " 16  cnt         17379 non-null  int64         \n",
      "dtypes: category(5), datetime64[ns](1), float64(4), int64(7)\n",
      "memory usage: 1.7 MB\n",
      "None\n"
     ]
    }
   ],
   "source": [
    "for df_name, df in data.items():\n",
    "    print(f'\\n~~~ Informasi untuk DataFrame {df_name} ~~~')\n",
    "    print(df.info())"
   ]
  },
  {
   "cell_type": "markdown",
   "metadata": {},
   "source": [
    "Ini adalah Informasi terkini terkait dataframe apa saja yang ada di data saya\n",
    "\n",
    "---"
   ]
  },
  {
   "cell_type": "markdown",
   "metadata": {},
   "source": [
    "1.3.2 Rename"
   ]
  },
  {
   "cell_type": "markdown",
   "metadata": {},
   "source": [
    "Saya akan merubah nama pada kolom di data **day** dan **hour** agar lebih mudah untuk dibaca"
   ]
  },
  {
   "cell_type": "code",
   "execution_count": 20,
   "metadata": {},
   "outputs": [],
   "source": [
    "day.rename(columns={'yr':'year','mnth':'month','weekday':'one_of_week', 'weathersit':'weather_situation', 'windspeed':'wind_speed','cnt':'count_cr','hum':'humidity'},inplace=True)"
   ]
  },
  {
   "cell_type": "code",
   "execution_count": 21,
   "metadata": {},
   "outputs": [],
   "source": [
    "hour.rename(columns={'yr':'year','hr':'hours','mnth':'month','weekday':'one_of_week', 'weathersit':'weather_situation','windspeed':'wind_speed','cnt':'count_cr','hum':'humidity'},inplace=True)"
   ]
  },
  {
   "cell_type": "code",
   "execution_count": 22,
   "metadata": {},
   "outputs": [
    {
     "name": "stdout",
     "output_type": "stream",
     "text": [
      "\n",
      "=== Kolom-kolom dalam day ===\n",
      "['instant', 'dteday', 'season', 'year', 'month', 'holiday', 'one_of_week', 'workingday', 'weather_situation', 'temp', 'atemp', 'humidity', 'wind_speed', 'casual', 'registered', 'count_cr']\n",
      "\n",
      "=== Kolom-kolom dalam hour ===\n",
      "['instant', 'dteday', 'season', 'year', 'month', 'hours', 'holiday', 'one_of_week', 'workingday', 'weather_situation', 'temp', 'atemp', 'humidity', 'wind_speed', 'casual', 'registered', 'count_cr']\n"
     ]
    }
   ],
   "source": [
    "for df_name, df in data.items():\n",
    "    print(f'\\n=== Kolom-kolom dalam {df_name} ===')\n",
    "    print(df.columns.tolist())"
   ]
  },
  {
   "cell_type": "markdown",
   "metadata": {},
   "source": [
    "Ini adalah hasil dari perubahan nama kolom yang saya implementasikan, agar lebih mudah untuk pembacaan dan pengelolaan\n",
    "\n",
    "---"
   ]
  },
  {
   "cell_type": "code",
   "execution_count": 23,
   "metadata": {},
   "outputs": [],
   "source": [
    "categorical_columns = ['season', 'month', 'weather_situation', 'one_of_week', 'year']\n",
    "\n",
    "mappings = {\n",
    "    'season': {1: 'Musim Semi', 2: 'Musim Panas', 3: 'Musim Gugur', 4: 'Musim Dingin'},\n",
    "    'month': {1: 'Januari', 2: 'Febuari', 3: 'Maret', 4: 'April', 5: 'Mei', 6: 'Juni',\n",
    "              7: 'Juli', 8: 'Agustus', 9: 'September', 10: 'Oktober', 11: 'November', 12: 'Desember'},\n",
    "    'weather_situation': {1: 'Cerah', 2: 'Mendung', 3: 'Hujan Ringan', 4: 'Hujan Lebat'},\n",
    "    'one_of_week': {0: 'Minggu', 1: 'Senin', 2: 'Selasa', 3: 'Rabu',\n",
    "                    4: 'Kamis', 5: 'Jumat', 6: 'Sabtu'},\n",
    "    'year': {0: '2023', 1: '2012'}\n",
    "}\n",
    "\n",
    "data = {'day': day, 'hour': hour}\n",
    "\n",
    "for name, df in data.items():\n",
    "    # Aplikasikan mapping untuk setiap kolom\n",
    "    for col, mapping in mappings.items():\n",
    "        if col in df.columns:\n",
    "            # Gunakan map untuk mengganti nilai dengan deskripsi\n",
    "            df[col] = df[col].map(mapping)\n",
    "    \n",
    "    if 'humidity' in df.columns:\n",
    "        df['humidity'] = df['humidity'] * 100"
   ]
  },
  {
   "cell_type": "markdown",
   "metadata": {},
   "source": [
    "Mengganti penamaan nilai menjadi label deskriptif agar lebih dipahami sesuai mapping yang saya tentukan, lalu mengubah juga skala kolom humidity menjadi persentase agar data lebih mudah dipahami.\n",
    "\n",
    "---"
   ]
  },
  {
   "cell_type": "code",
   "execution_count": 24,
   "metadata": {},
   "outputs": [
    {
     "data": {
      "text/html": [
       "<div>\n",
       "<style scoped>\n",
       "    .dataframe tbody tr th:only-of-type {\n",
       "        vertical-align: middle;\n",
       "    }\n",
       "\n",
       "    .dataframe tbody tr th {\n",
       "        vertical-align: top;\n",
       "    }\n",
       "\n",
       "    .dataframe thead th {\n",
       "        text-align: right;\n",
       "    }\n",
       "</style>\n",
       "<table border=\"1\" class=\"dataframe\">\n",
       "  <thead>\n",
       "    <tr style=\"text-align: right;\">\n",
       "      <th></th>\n",
       "      <th>instant</th>\n",
       "      <th>dteday</th>\n",
       "      <th>season</th>\n",
       "      <th>year</th>\n",
       "      <th>month</th>\n",
       "      <th>holiday</th>\n",
       "      <th>one_of_week</th>\n",
       "      <th>workingday</th>\n",
       "      <th>weather_situation</th>\n",
       "      <th>temp</th>\n",
       "      <th>atemp</th>\n",
       "      <th>humidity</th>\n",
       "      <th>wind_speed</th>\n",
       "      <th>casual</th>\n",
       "      <th>registered</th>\n",
       "      <th>count_cr</th>\n",
       "    </tr>\n",
       "  </thead>\n",
       "  <tbody>\n",
       "    <tr>\n",
       "      <th>0</th>\n",
       "      <td>1</td>\n",
       "      <td>2011-01-01</td>\n",
       "      <td>Musim Semi</td>\n",
       "      <td>2011</td>\n",
       "      <td>Januari</td>\n",
       "      <td>0</td>\n",
       "      <td>Sabtu</td>\n",
       "      <td>0</td>\n",
       "      <td>Mendung</td>\n",
       "      <td>0.344167</td>\n",
       "      <td>0.363625</td>\n",
       "      <td>80.5833</td>\n",
       "      <td>0.160446</td>\n",
       "      <td>331</td>\n",
       "      <td>654</td>\n",
       "      <td>985</td>\n",
       "    </tr>\n",
       "    <tr>\n",
       "      <th>1</th>\n",
       "      <td>2</td>\n",
       "      <td>2011-01-02</td>\n",
       "      <td>Musim Semi</td>\n",
       "      <td>2011</td>\n",
       "      <td>Januari</td>\n",
       "      <td>0</td>\n",
       "      <td>Minggu</td>\n",
       "      <td>0</td>\n",
       "      <td>Mendung</td>\n",
       "      <td>0.363478</td>\n",
       "      <td>0.353739</td>\n",
       "      <td>69.6087</td>\n",
       "      <td>0.248539</td>\n",
       "      <td>131</td>\n",
       "      <td>670</td>\n",
       "      <td>801</td>\n",
       "    </tr>\n",
       "    <tr>\n",
       "      <th>2</th>\n",
       "      <td>3</td>\n",
       "      <td>2011-01-03</td>\n",
       "      <td>Musim Semi</td>\n",
       "      <td>2011</td>\n",
       "      <td>Januari</td>\n",
       "      <td>0</td>\n",
       "      <td>Senin</td>\n",
       "      <td>1</td>\n",
       "      <td>Cerah</td>\n",
       "      <td>0.196364</td>\n",
       "      <td>0.189405</td>\n",
       "      <td>43.7273</td>\n",
       "      <td>0.248309</td>\n",
       "      <td>120</td>\n",
       "      <td>1229</td>\n",
       "      <td>1349</td>\n",
       "    </tr>\n",
       "    <tr>\n",
       "      <th>3</th>\n",
       "      <td>4</td>\n",
       "      <td>2011-01-04</td>\n",
       "      <td>Musim Semi</td>\n",
       "      <td>2011</td>\n",
       "      <td>Januari</td>\n",
       "      <td>0</td>\n",
       "      <td>Selasa</td>\n",
       "      <td>1</td>\n",
       "      <td>Cerah</td>\n",
       "      <td>0.200000</td>\n",
       "      <td>0.212122</td>\n",
       "      <td>59.0435</td>\n",
       "      <td>0.160296</td>\n",
       "      <td>108</td>\n",
       "      <td>1454</td>\n",
       "      <td>1562</td>\n",
       "    </tr>\n",
       "    <tr>\n",
       "      <th>4</th>\n",
       "      <td>5</td>\n",
       "      <td>2011-01-05</td>\n",
       "      <td>Musim Semi</td>\n",
       "      <td>2011</td>\n",
       "      <td>Januari</td>\n",
       "      <td>0</td>\n",
       "      <td>Rabu</td>\n",
       "      <td>1</td>\n",
       "      <td>Cerah</td>\n",
       "      <td>0.226957</td>\n",
       "      <td>0.229270</td>\n",
       "      <td>43.6957</td>\n",
       "      <td>0.186900</td>\n",
       "      <td>82</td>\n",
       "      <td>1518</td>\n",
       "      <td>1600</td>\n",
       "    </tr>\n",
       "    <tr>\n",
       "      <th>...</th>\n",
       "      <td>...</td>\n",
       "      <td>...</td>\n",
       "      <td>...</td>\n",
       "      <td>...</td>\n",
       "      <td>...</td>\n",
       "      <td>...</td>\n",
       "      <td>...</td>\n",
       "      <td>...</td>\n",
       "      <td>...</td>\n",
       "      <td>...</td>\n",
       "      <td>...</td>\n",
       "      <td>...</td>\n",
       "      <td>...</td>\n",
       "      <td>...</td>\n",
       "      <td>...</td>\n",
       "      <td>...</td>\n",
       "    </tr>\n",
       "    <tr>\n",
       "      <th>726</th>\n",
       "      <td>727</td>\n",
       "      <td>2012-12-27</td>\n",
       "      <td>Musim Semi</td>\n",
       "      <td>2012</td>\n",
       "      <td>Desember</td>\n",
       "      <td>0</td>\n",
       "      <td>Kamis</td>\n",
       "      <td>1</td>\n",
       "      <td>Mendung</td>\n",
       "      <td>0.254167</td>\n",
       "      <td>0.226642</td>\n",
       "      <td>65.2917</td>\n",
       "      <td>0.350133</td>\n",
       "      <td>247</td>\n",
       "      <td>1867</td>\n",
       "      <td>2114</td>\n",
       "    </tr>\n",
       "    <tr>\n",
       "      <th>727</th>\n",
       "      <td>728</td>\n",
       "      <td>2012-12-28</td>\n",
       "      <td>Musim Semi</td>\n",
       "      <td>2012</td>\n",
       "      <td>Desember</td>\n",
       "      <td>0</td>\n",
       "      <td>Jumat</td>\n",
       "      <td>1</td>\n",
       "      <td>Mendung</td>\n",
       "      <td>0.253333</td>\n",
       "      <td>0.255046</td>\n",
       "      <td>59.0000</td>\n",
       "      <td>0.155471</td>\n",
       "      <td>644</td>\n",
       "      <td>2451</td>\n",
       "      <td>3095</td>\n",
       "    </tr>\n",
       "    <tr>\n",
       "      <th>728</th>\n",
       "      <td>729</td>\n",
       "      <td>2012-12-29</td>\n",
       "      <td>Musim Semi</td>\n",
       "      <td>2012</td>\n",
       "      <td>Desember</td>\n",
       "      <td>0</td>\n",
       "      <td>Sabtu</td>\n",
       "      <td>0</td>\n",
       "      <td>Mendung</td>\n",
       "      <td>0.253333</td>\n",
       "      <td>0.242400</td>\n",
       "      <td>75.2917</td>\n",
       "      <td>0.124383</td>\n",
       "      <td>159</td>\n",
       "      <td>1182</td>\n",
       "      <td>1341</td>\n",
       "    </tr>\n",
       "    <tr>\n",
       "      <th>729</th>\n",
       "      <td>730</td>\n",
       "      <td>2012-12-30</td>\n",
       "      <td>Musim Semi</td>\n",
       "      <td>2012</td>\n",
       "      <td>Desember</td>\n",
       "      <td>0</td>\n",
       "      <td>Minggu</td>\n",
       "      <td>0</td>\n",
       "      <td>Cerah</td>\n",
       "      <td>0.255833</td>\n",
       "      <td>0.231700</td>\n",
       "      <td>48.3333</td>\n",
       "      <td>0.350754</td>\n",
       "      <td>364</td>\n",
       "      <td>1432</td>\n",
       "      <td>1796</td>\n",
       "    </tr>\n",
       "    <tr>\n",
       "      <th>730</th>\n",
       "      <td>731</td>\n",
       "      <td>2012-12-31</td>\n",
       "      <td>Musim Semi</td>\n",
       "      <td>2012</td>\n",
       "      <td>Desember</td>\n",
       "      <td>0</td>\n",
       "      <td>Senin</td>\n",
       "      <td>1</td>\n",
       "      <td>Mendung</td>\n",
       "      <td>0.215833</td>\n",
       "      <td>0.223487</td>\n",
       "      <td>57.7500</td>\n",
       "      <td>0.154846</td>\n",
       "      <td>439</td>\n",
       "      <td>2290</td>\n",
       "      <td>2729</td>\n",
       "    </tr>\n",
       "  </tbody>\n",
       "</table>\n",
       "<p>731 rows × 16 columns</p>\n",
       "</div>"
      ],
      "text/plain": [
       "     instant     dteday      season  year     month holiday one_of_week  \\\n",
       "0          1 2011-01-01  Musim Semi  2011   Januari       0       Sabtu   \n",
       "1          2 2011-01-02  Musim Semi  2011   Januari       0      Minggu   \n",
       "2          3 2011-01-03  Musim Semi  2011   Januari       0       Senin   \n",
       "3          4 2011-01-04  Musim Semi  2011   Januari       0      Selasa   \n",
       "4          5 2011-01-05  Musim Semi  2011   Januari       0        Rabu   \n",
       "..       ...        ...         ...   ...       ...     ...         ...   \n",
       "726      727 2012-12-27  Musim Semi  2012  Desember       0       Kamis   \n",
       "727      728 2012-12-28  Musim Semi  2012  Desember       0       Jumat   \n",
       "728      729 2012-12-29  Musim Semi  2012  Desember       0       Sabtu   \n",
       "729      730 2012-12-30  Musim Semi  2012  Desember       0      Minggu   \n",
       "730      731 2012-12-31  Musim Semi  2012  Desember       0       Senin   \n",
       "\n",
       "     workingday weather_situation      temp     atemp  humidity  wind_speed  \\\n",
       "0             0           Mendung  0.344167  0.363625   80.5833    0.160446   \n",
       "1             0           Mendung  0.363478  0.353739   69.6087    0.248539   \n",
       "2             1             Cerah  0.196364  0.189405   43.7273    0.248309   \n",
       "3             1             Cerah  0.200000  0.212122   59.0435    0.160296   \n",
       "4             1             Cerah  0.226957  0.229270   43.6957    0.186900   \n",
       "..          ...               ...       ...       ...       ...         ...   \n",
       "726           1           Mendung  0.254167  0.226642   65.2917    0.350133   \n",
       "727           1           Mendung  0.253333  0.255046   59.0000    0.155471   \n",
       "728           0           Mendung  0.253333  0.242400   75.2917    0.124383   \n",
       "729           0             Cerah  0.255833  0.231700   48.3333    0.350754   \n",
       "730           1           Mendung  0.215833  0.223487   57.7500    0.154846   \n",
       "\n",
       "     casual  registered  count_cr  \n",
       "0       331         654       985  \n",
       "1       131         670       801  \n",
       "2       120        1229      1349  \n",
       "3       108        1454      1562  \n",
       "4        82        1518      1600  \n",
       "..      ...         ...       ...  \n",
       "726     247        1867      2114  \n",
       "727     644        2451      3095  \n",
       "728     159        1182      1341  \n",
       "729     364        1432      1796  \n",
       "730     439        2290      2729  \n",
       "\n",
       "[731 rows x 16 columns]"
      ]
     },
     "execution_count": 24,
     "metadata": {},
     "output_type": "execute_result"
    }
   ],
   "source": [
    "day"
   ]
  },
  {
   "cell_type": "markdown",
   "metadata": {},
   "source": [
    "Menampilkan data **day**\n",
    "\n",
    "---"
   ]
  },
  {
   "cell_type": "code",
   "execution_count": 25,
   "metadata": {},
   "outputs": [
    {
     "data": {
      "text/html": [
       "<div>\n",
       "<style scoped>\n",
       "    .dataframe tbody tr th:only-of-type {\n",
       "        vertical-align: middle;\n",
       "    }\n",
       "\n",
       "    .dataframe tbody tr th {\n",
       "        vertical-align: top;\n",
       "    }\n",
       "\n",
       "    .dataframe thead th {\n",
       "        text-align: right;\n",
       "    }\n",
       "</style>\n",
       "<table border=\"1\" class=\"dataframe\">\n",
       "  <thead>\n",
       "    <tr style=\"text-align: right;\">\n",
       "      <th></th>\n",
       "      <th>instant</th>\n",
       "      <th>dteday</th>\n",
       "      <th>season</th>\n",
       "      <th>year</th>\n",
       "      <th>month</th>\n",
       "      <th>hours</th>\n",
       "      <th>holiday</th>\n",
       "      <th>one_of_week</th>\n",
       "      <th>workingday</th>\n",
       "      <th>weather_situation</th>\n",
       "      <th>temp</th>\n",
       "      <th>atemp</th>\n",
       "      <th>humidity</th>\n",
       "      <th>wind_speed</th>\n",
       "      <th>casual</th>\n",
       "      <th>registered</th>\n",
       "      <th>count_cr</th>\n",
       "    </tr>\n",
       "  </thead>\n",
       "  <tbody>\n",
       "    <tr>\n",
       "      <th>0</th>\n",
       "      <td>1</td>\n",
       "      <td>2011-01-01</td>\n",
       "      <td>Musim Semi</td>\n",
       "      <td>2011</td>\n",
       "      <td>Januari</td>\n",
       "      <td>0</td>\n",
       "      <td>0</td>\n",
       "      <td>Sabtu</td>\n",
       "      <td>0</td>\n",
       "      <td>Cerah</td>\n",
       "      <td>0.24</td>\n",
       "      <td>0.2879</td>\n",
       "      <td>81.0</td>\n",
       "      <td>0.0000</td>\n",
       "      <td>3</td>\n",
       "      <td>13</td>\n",
       "      <td>16</td>\n",
       "    </tr>\n",
       "    <tr>\n",
       "      <th>1</th>\n",
       "      <td>2</td>\n",
       "      <td>2011-01-01</td>\n",
       "      <td>Musim Semi</td>\n",
       "      <td>2011</td>\n",
       "      <td>Januari</td>\n",
       "      <td>1</td>\n",
       "      <td>0</td>\n",
       "      <td>Sabtu</td>\n",
       "      <td>0</td>\n",
       "      <td>Cerah</td>\n",
       "      <td>0.22</td>\n",
       "      <td>0.2727</td>\n",
       "      <td>80.0</td>\n",
       "      <td>0.0000</td>\n",
       "      <td>8</td>\n",
       "      <td>32</td>\n",
       "      <td>40</td>\n",
       "    </tr>\n",
       "    <tr>\n",
       "      <th>2</th>\n",
       "      <td>3</td>\n",
       "      <td>2011-01-01</td>\n",
       "      <td>Musim Semi</td>\n",
       "      <td>2011</td>\n",
       "      <td>Januari</td>\n",
       "      <td>2</td>\n",
       "      <td>0</td>\n",
       "      <td>Sabtu</td>\n",
       "      <td>0</td>\n",
       "      <td>Cerah</td>\n",
       "      <td>0.22</td>\n",
       "      <td>0.2727</td>\n",
       "      <td>80.0</td>\n",
       "      <td>0.0000</td>\n",
       "      <td>5</td>\n",
       "      <td>27</td>\n",
       "      <td>32</td>\n",
       "    </tr>\n",
       "    <tr>\n",
       "      <th>3</th>\n",
       "      <td>4</td>\n",
       "      <td>2011-01-01</td>\n",
       "      <td>Musim Semi</td>\n",
       "      <td>2011</td>\n",
       "      <td>Januari</td>\n",
       "      <td>3</td>\n",
       "      <td>0</td>\n",
       "      <td>Sabtu</td>\n",
       "      <td>0</td>\n",
       "      <td>Cerah</td>\n",
       "      <td>0.24</td>\n",
       "      <td>0.2879</td>\n",
       "      <td>75.0</td>\n",
       "      <td>0.0000</td>\n",
       "      <td>3</td>\n",
       "      <td>10</td>\n",
       "      <td>13</td>\n",
       "    </tr>\n",
       "    <tr>\n",
       "      <th>4</th>\n",
       "      <td>5</td>\n",
       "      <td>2011-01-01</td>\n",
       "      <td>Musim Semi</td>\n",
       "      <td>2011</td>\n",
       "      <td>Januari</td>\n",
       "      <td>4</td>\n",
       "      <td>0</td>\n",
       "      <td>Sabtu</td>\n",
       "      <td>0</td>\n",
       "      <td>Cerah</td>\n",
       "      <td>0.24</td>\n",
       "      <td>0.2879</td>\n",
       "      <td>75.0</td>\n",
       "      <td>0.0000</td>\n",
       "      <td>0</td>\n",
       "      <td>1</td>\n",
       "      <td>1</td>\n",
       "    </tr>\n",
       "    <tr>\n",
       "      <th>...</th>\n",
       "      <td>...</td>\n",
       "      <td>...</td>\n",
       "      <td>...</td>\n",
       "      <td>...</td>\n",
       "      <td>...</td>\n",
       "      <td>...</td>\n",
       "      <td>...</td>\n",
       "      <td>...</td>\n",
       "      <td>...</td>\n",
       "      <td>...</td>\n",
       "      <td>...</td>\n",
       "      <td>...</td>\n",
       "      <td>...</td>\n",
       "      <td>...</td>\n",
       "      <td>...</td>\n",
       "      <td>...</td>\n",
       "      <td>...</td>\n",
       "    </tr>\n",
       "    <tr>\n",
       "      <th>17374</th>\n",
       "      <td>17375</td>\n",
       "      <td>2012-12-31</td>\n",
       "      <td>Musim Semi</td>\n",
       "      <td>2012</td>\n",
       "      <td>Desember</td>\n",
       "      <td>19</td>\n",
       "      <td>0</td>\n",
       "      <td>Senin</td>\n",
       "      <td>1</td>\n",
       "      <td>Mendung</td>\n",
       "      <td>0.26</td>\n",
       "      <td>0.2576</td>\n",
       "      <td>60.0</td>\n",
       "      <td>0.1642</td>\n",
       "      <td>11</td>\n",
       "      <td>108</td>\n",
       "      <td>119</td>\n",
       "    </tr>\n",
       "    <tr>\n",
       "      <th>17375</th>\n",
       "      <td>17376</td>\n",
       "      <td>2012-12-31</td>\n",
       "      <td>Musim Semi</td>\n",
       "      <td>2012</td>\n",
       "      <td>Desember</td>\n",
       "      <td>20</td>\n",
       "      <td>0</td>\n",
       "      <td>Senin</td>\n",
       "      <td>1</td>\n",
       "      <td>Mendung</td>\n",
       "      <td>0.26</td>\n",
       "      <td>0.2576</td>\n",
       "      <td>60.0</td>\n",
       "      <td>0.1642</td>\n",
       "      <td>8</td>\n",
       "      <td>81</td>\n",
       "      <td>89</td>\n",
       "    </tr>\n",
       "    <tr>\n",
       "      <th>17376</th>\n",
       "      <td>17377</td>\n",
       "      <td>2012-12-31</td>\n",
       "      <td>Musim Semi</td>\n",
       "      <td>2012</td>\n",
       "      <td>Desember</td>\n",
       "      <td>21</td>\n",
       "      <td>0</td>\n",
       "      <td>Senin</td>\n",
       "      <td>1</td>\n",
       "      <td>Cerah</td>\n",
       "      <td>0.26</td>\n",
       "      <td>0.2576</td>\n",
       "      <td>60.0</td>\n",
       "      <td>0.1642</td>\n",
       "      <td>7</td>\n",
       "      <td>83</td>\n",
       "      <td>90</td>\n",
       "    </tr>\n",
       "    <tr>\n",
       "      <th>17377</th>\n",
       "      <td>17378</td>\n",
       "      <td>2012-12-31</td>\n",
       "      <td>Musim Semi</td>\n",
       "      <td>2012</td>\n",
       "      <td>Desember</td>\n",
       "      <td>22</td>\n",
       "      <td>0</td>\n",
       "      <td>Senin</td>\n",
       "      <td>1</td>\n",
       "      <td>Cerah</td>\n",
       "      <td>0.26</td>\n",
       "      <td>0.2727</td>\n",
       "      <td>56.0</td>\n",
       "      <td>0.1343</td>\n",
       "      <td>13</td>\n",
       "      <td>48</td>\n",
       "      <td>61</td>\n",
       "    </tr>\n",
       "    <tr>\n",
       "      <th>17378</th>\n",
       "      <td>17379</td>\n",
       "      <td>2012-12-31</td>\n",
       "      <td>Musim Semi</td>\n",
       "      <td>2012</td>\n",
       "      <td>Desember</td>\n",
       "      <td>23</td>\n",
       "      <td>0</td>\n",
       "      <td>Senin</td>\n",
       "      <td>1</td>\n",
       "      <td>Cerah</td>\n",
       "      <td>0.26</td>\n",
       "      <td>0.2727</td>\n",
       "      <td>65.0</td>\n",
       "      <td>0.1343</td>\n",
       "      <td>12</td>\n",
       "      <td>37</td>\n",
       "      <td>49</td>\n",
       "    </tr>\n",
       "  </tbody>\n",
       "</table>\n",
       "<p>17379 rows × 17 columns</p>\n",
       "</div>"
      ],
      "text/plain": [
       "       instant     dteday      season  year     month  hours holiday  \\\n",
       "0            1 2011-01-01  Musim Semi  2011   Januari      0       0   \n",
       "1            2 2011-01-01  Musim Semi  2011   Januari      1       0   \n",
       "2            3 2011-01-01  Musim Semi  2011   Januari      2       0   \n",
       "3            4 2011-01-01  Musim Semi  2011   Januari      3       0   \n",
       "4            5 2011-01-01  Musim Semi  2011   Januari      4       0   \n",
       "...        ...        ...         ...   ...       ...    ...     ...   \n",
       "17374    17375 2012-12-31  Musim Semi  2012  Desember     19       0   \n",
       "17375    17376 2012-12-31  Musim Semi  2012  Desember     20       0   \n",
       "17376    17377 2012-12-31  Musim Semi  2012  Desember     21       0   \n",
       "17377    17378 2012-12-31  Musim Semi  2012  Desember     22       0   \n",
       "17378    17379 2012-12-31  Musim Semi  2012  Desember     23       0   \n",
       "\n",
       "      one_of_week  workingday weather_situation  temp   atemp  humidity  \\\n",
       "0           Sabtu           0             Cerah  0.24  0.2879      81.0   \n",
       "1           Sabtu           0             Cerah  0.22  0.2727      80.0   \n",
       "2           Sabtu           0             Cerah  0.22  0.2727      80.0   \n",
       "3           Sabtu           0             Cerah  0.24  0.2879      75.0   \n",
       "4           Sabtu           0             Cerah  0.24  0.2879      75.0   \n",
       "...           ...         ...               ...   ...     ...       ...   \n",
       "17374       Senin           1           Mendung  0.26  0.2576      60.0   \n",
       "17375       Senin           1           Mendung  0.26  0.2576      60.0   \n",
       "17376       Senin           1             Cerah  0.26  0.2576      60.0   \n",
       "17377       Senin           1             Cerah  0.26  0.2727      56.0   \n",
       "17378       Senin           1             Cerah  0.26  0.2727      65.0   \n",
       "\n",
       "       wind_speed  casual  registered  count_cr  \n",
       "0          0.0000       3          13        16  \n",
       "1          0.0000       8          32        40  \n",
       "2          0.0000       5          27        32  \n",
       "3          0.0000       3          10        13  \n",
       "4          0.0000       0           1         1  \n",
       "...           ...     ...         ...       ...  \n",
       "17374      0.1642      11         108       119  \n",
       "17375      0.1642       8          81        89  \n",
       "17376      0.1642       7          83        90  \n",
       "17377      0.1343      13          48        61  \n",
       "17378      0.1343      12          37        49  \n",
       "\n",
       "[17379 rows x 17 columns]"
      ]
     },
     "execution_count": 25,
     "metadata": {},
     "output_type": "execute_result"
    }
   ],
   "source": [
    "hour"
   ]
  },
  {
   "cell_type": "markdown",
   "metadata": {},
   "source": [
    "Menampilkan data **hour**\n",
    "\n",
    "---"
   ]
  },
  {
   "cell_type": "code",
   "execution_count": 26,
   "metadata": {},
   "outputs": [],
   "source": [
    "one_of_week = [\"Senin\", \"Selasa\", \"Rabu\", \"Kamis\", \"Jumat\", \"Sabtu\", \"Minggu\"]\n",
    "def get_category_days(one_of_week):\n",
    "    if one_of_week in [\"Sabtu\", \"Minggu\"]:\n",
    "        return \"weekend\"\n",
    "    else:\n",
    "        return \"weekdays\"\n",
    "\n",
    "hour[\"category_days\"] = hour[\"one_of_week\"].apply(get_category_days)\n",
    "day[\"category_days\"] = day[\"one_of_week\"].apply(get_category_days)"
   ]
  },
  {
   "cell_type": "markdown",
   "metadata": {},
   "source": [
    "Saya membuat kolom *category_days* untuk mengklasifikasikan setiap hari dalam kolom one_of_week sebagai *weekdays* atau *weekend* , untuk memudahkan penganalisisan terkait perbandingan di *weekdays* dan *weekend*\n",
    "\n",
    "---"
   ]
  },
  {
   "cell_type": "code",
   "execution_count": 27,
   "metadata": {},
   "outputs": [
    {
     "name": "stdout",
     "output_type": "stream",
     "text": [
      "  one_of_week category_days\n",
      "0       Senin      weekdays\n",
      "1      Selasa      weekdays\n",
      "2        Rabu      weekdays\n",
      "3       Kamis      weekdays\n",
      "4       Jumat      weekdays\n",
      "5       Sabtu       weekend\n",
      "6      Minggu       weekend\n"
     ]
    }
   ],
   "source": [
    "week_days_df = pd.DataFrame({\n",
    "    'one_of_week': one_of_week\n",
    "})\n",
    "\n",
    "week_days_df['category_days'] = week_days_df['one_of_week'].apply(get_category_days)\n",
    "\n",
    "print(week_days_df)"
   ]
  },
  {
   "cell_type": "markdown",
   "metadata": {},
   "source": [
    "Ini adalah output dari pengkategorian *weekdays* dan *weekend*\n",
    "\n",
    "---"
   ]
  },
  {
   "cell_type": "code",
   "execution_count": 28,
   "metadata": {},
   "outputs": [],
   "source": [
    "def classify_humidity(humidity):\n",
    "    if humidity < 45:\n",
    "        return \"Kering\"\n",
    "    elif humidity >= 45 and humidity < 65:\n",
    "        return \"Ideal\"\n",
    "    else:\n",
    "        return \"Lembab\"\n",
    "\n",
    "hour[\"humidity_category\"] = hour[\"humidity\"].apply(classify_humidity)\n",
    "day[\"humidity_category\"] = day[\"humidity\"].apply(classify_humidity)"
   ]
  },
  {
   "cell_type": "code",
   "execution_count": 29,
   "metadata": {},
   "outputs": [
    {
     "name": "stdout",
     "output_type": "stream",
     "text": [
      "   humidity humidity_category\n",
      "0      81.0            Lembab\n",
      "1      80.0            Lembab\n",
      "2      80.0            Lembab\n",
      "3      75.0            Lembab\n",
      "4      75.0            Lembab\n",
      "   humidity humidity_category\n",
      "0   80.5833            Lembab\n",
      "1   69.6087            Lembab\n",
      "2   43.7273            Kering\n",
      "3   59.0435             Ideal\n",
      "4   43.6957            Kering\n"
     ]
    }
   ],
   "source": [
    "print(hour[['humidity', 'humidity_category']].head())\n",
    "print(day[['humidity', 'humidity_category']].head())"
   ]
  },
  {
   "cell_type": "markdown",
   "metadata": {},
   "source": [
    "Disini saya menambahkan kolom baru yaitu *humidity_category* pada data **day** dan **hour** untuk mengklasifikasikan nilai kelembaban ke dalam tiga kategori: *Terlalu kering*, *Ideal*, dan *Terlalu Lembab*, berdasarkan nilai kelembaban pada kolom humidity\n",
    "\n",
    "---"
   ]
  },
  {
   "cell_type": "markdown",
   "metadata": {
    "id": "Q_5ejIqckiSP"
   },
   "source": [
    "**Insight:**\n",
    "- Merubah tipe data pada kolom *dteday* menjadi *datetime*\n",
    "- Me-Rename kolom *yr : year, mnth : month, weekday : one_of_week, weathersit : weather_situation, windspeed : wind_speed, cnt : count_cr, hum : humidity* pada data **day** agar lebih mudah untuk dibaca\n",
    "- Merubah tipe data *int* pada *season, month, holiday, weekday, workingday, weathersit* menjadi tipe data *category*\n",
    "- Membuat kolom baru *category_days* (berisikan informasi *weekdays* dan *weekend*) dan *humidity_category* (berisikan nilai kelembapan *Terlalu Lembab, Ideal,* dan *Terlalu Kering*)"
   ]
  },
  {
   "cell_type": "markdown",
   "metadata": {
    "id": "gp-Y6wU38DC1"
   },
   "source": [
    "## **2. Exploratory Data Analysis (EDA)**"
   ]
  },
  {
   "cell_type": "markdown",
   "metadata": {
    "id": "MW7WF2kr8DC1"
   },
   "source": [
    "### 2.1 Explore data hour"
   ]
  },
  {
   "cell_type": "code",
   "execution_count": 30,
   "metadata": {},
   "outputs": [
    {
     "data": {
      "text/html": [
       "<div>\n",
       "<style scoped>\n",
       "    .dataframe tbody tr th:only-of-type {\n",
       "        vertical-align: middle;\n",
       "    }\n",
       "\n",
       "    .dataframe tbody tr th {\n",
       "        vertical-align: top;\n",
       "    }\n",
       "\n",
       "    .dataframe thead th {\n",
       "        text-align: right;\n",
       "    }\n",
       "</style>\n",
       "<table border=\"1\" class=\"dataframe\">\n",
       "  <thead>\n",
       "    <tr style=\"text-align: right;\">\n",
       "      <th></th>\n",
       "      <th>instant</th>\n",
       "      <th>dteday</th>\n",
       "      <th>season</th>\n",
       "      <th>year</th>\n",
       "      <th>month</th>\n",
       "      <th>hours</th>\n",
       "      <th>holiday</th>\n",
       "      <th>one_of_week</th>\n",
       "      <th>workingday</th>\n",
       "      <th>weather_situation</th>\n",
       "      <th>temp</th>\n",
       "      <th>atemp</th>\n",
       "      <th>humidity</th>\n",
       "      <th>wind_speed</th>\n",
       "      <th>casual</th>\n",
       "      <th>registered</th>\n",
       "      <th>count_cr</th>\n",
       "      <th>category_days</th>\n",
       "      <th>humidity_category</th>\n",
       "    </tr>\n",
       "  </thead>\n",
       "  <tbody>\n",
       "    <tr>\n",
       "      <th>4751</th>\n",
       "      <td>4752</td>\n",
       "      <td>2011-07-21</td>\n",
       "      <td>Musim Gugur</td>\n",
       "      <td>2011</td>\n",
       "      <td>Juli</td>\n",
       "      <td>21</td>\n",
       "      <td>0</td>\n",
       "      <td>Kamis</td>\n",
       "      <td>1</td>\n",
       "      <td>Cerah</td>\n",
       "      <td>0.82</td>\n",
       "      <td>0.8939</td>\n",
       "      <td>75.0</td>\n",
       "      <td>0.2239</td>\n",
       "      <td>38</td>\n",
       "      <td>187</td>\n",
       "      <td>225</td>\n",
       "      <td>weekdays</td>\n",
       "      <td>Lembab</td>\n",
       "    </tr>\n",
       "    <tr>\n",
       "      <th>2434</th>\n",
       "      <td>2435</td>\n",
       "      <td>2011-04-16</td>\n",
       "      <td>Musim Panas</td>\n",
       "      <td>2011</td>\n",
       "      <td>April</td>\n",
       "      <td>8</td>\n",
       "      <td>0</td>\n",
       "      <td>Sabtu</td>\n",
       "      <td>0</td>\n",
       "      <td>Hujan Ringan</td>\n",
       "      <td>0.40</td>\n",
       "      <td>0.4091</td>\n",
       "      <td>87.0</td>\n",
       "      <td>0.3582</td>\n",
       "      <td>7</td>\n",
       "      <td>38</td>\n",
       "      <td>45</td>\n",
       "      <td>weekend</td>\n",
       "      <td>Lembab</td>\n",
       "    </tr>\n",
       "    <tr>\n",
       "      <th>11913</th>\n",
       "      <td>11914</td>\n",
       "      <td>2012-05-16</td>\n",
       "      <td>Musim Panas</td>\n",
       "      <td>2012</td>\n",
       "      <td>Mei</td>\n",
       "      <td>14</td>\n",
       "      <td>0</td>\n",
       "      <td>Rabu</td>\n",
       "      <td>1</td>\n",
       "      <td>Cerah</td>\n",
       "      <td>0.72</td>\n",
       "      <td>0.6515</td>\n",
       "      <td>42.0</td>\n",
       "      <td>0.0896</td>\n",
       "      <td>42</td>\n",
       "      <td>221</td>\n",
       "      <td>263</td>\n",
       "      <td>weekdays</td>\n",
       "      <td>Kering</td>\n",
       "    </tr>\n",
       "    <tr>\n",
       "      <th>12711</th>\n",
       "      <td>12712</td>\n",
       "      <td>2012-06-18</td>\n",
       "      <td>Musim Panas</td>\n",
       "      <td>2012</td>\n",
       "      <td>Juni</td>\n",
       "      <td>20</td>\n",
       "      <td>0</td>\n",
       "      <td>Senin</td>\n",
       "      <td>1</td>\n",
       "      <td>Mendung</td>\n",
       "      <td>0.62</td>\n",
       "      <td>0.5909</td>\n",
       "      <td>73.0</td>\n",
       "      <td>0.1343</td>\n",
       "      <td>45</td>\n",
       "      <td>317</td>\n",
       "      <td>362</td>\n",
       "      <td>weekdays</td>\n",
       "      <td>Lembab</td>\n",
       "    </tr>\n",
       "    <tr>\n",
       "      <th>16450</th>\n",
       "      <td>16451</td>\n",
       "      <td>2012-11-23</td>\n",
       "      <td>Musim Dingin</td>\n",
       "      <td>2012</td>\n",
       "      <td>November</td>\n",
       "      <td>4</td>\n",
       "      <td>0</td>\n",
       "      <td>Jumat</td>\n",
       "      <td>1</td>\n",
       "      <td>Cerah</td>\n",
       "      <td>0.24</td>\n",
       "      <td>0.2576</td>\n",
       "      <td>75.0</td>\n",
       "      <td>0.1045</td>\n",
       "      <td>1</td>\n",
       "      <td>3</td>\n",
       "      <td>4</td>\n",
       "      <td>weekdays</td>\n",
       "      <td>Lembab</td>\n",
       "    </tr>\n",
       "  </tbody>\n",
       "</table>\n",
       "</div>"
      ],
      "text/plain": [
       "       instant     dteday        season  year     month  hours holiday  \\\n",
       "4751      4752 2011-07-21   Musim Gugur  2011      Juli     21       0   \n",
       "2434      2435 2011-04-16   Musim Panas  2011     April      8       0   \n",
       "11913    11914 2012-05-16   Musim Panas  2012       Mei     14       0   \n",
       "12711    12712 2012-06-18   Musim Panas  2012      Juni     20       0   \n",
       "16450    16451 2012-11-23  Musim Dingin  2012  November      4       0   \n",
       "\n",
       "      one_of_week  workingday weather_situation  temp   atemp  humidity  \\\n",
       "4751        Kamis           1             Cerah  0.82  0.8939      75.0   \n",
       "2434        Sabtu           0      Hujan Ringan  0.40  0.4091      87.0   \n",
       "11913        Rabu           1             Cerah  0.72  0.6515      42.0   \n",
       "12711       Senin           1           Mendung  0.62  0.5909      73.0   \n",
       "16450       Jumat           1             Cerah  0.24  0.2576      75.0   \n",
       "\n",
       "       wind_speed  casual  registered  count_cr category_days  \\\n",
       "4751       0.2239      38         187       225      weekdays   \n",
       "2434       0.3582       7          38        45       weekend   \n",
       "11913      0.0896      42         221       263      weekdays   \n",
       "12711      0.1343      45         317       362      weekdays   \n",
       "16450      0.1045       1           3         4      weekdays   \n",
       "\n",
       "      humidity_category  \n",
       "4751             Lembab  \n",
       "2434             Lembab  \n",
       "11913            Kering  \n",
       "12711            Lembab  \n",
       "16450            Lembab  "
      ]
     },
     "execution_count": 30,
     "metadata": {},
     "output_type": "execute_result"
    }
   ],
   "source": [
    "data[\"hour\"].sample(5)"
   ]
  },
  {
   "cell_type": "markdown",
   "metadata": {},
   "source": [
    "Saya menampilkan sample 5 data **hour** untuk memudahkan saya dalam membaca kolom\n",
    "\n",
    "\n",
    "---"
   ]
  },
  {
   "cell_type": "code",
   "execution_count": 31,
   "metadata": {},
   "outputs": [
    {
     "name": "stdout",
     "output_type": "stream",
     "text": [
      "       count_cr\n",
      "hours          \n",
      "17       336860\n",
      "18       309772\n",
      "8        261001\n",
      "16       227748\n",
      "19       226789\n",
      "13       184919\n",
      "12       184414\n",
      "15       183149\n",
      "14       175652\n",
      "20       164550\n",
      "9        159438\n",
      "7        154171\n",
      "11       151320\n",
      "10       126257\n",
      "21       125445\n",
      "22        95612\n",
      "23        63941\n",
      "6         55132\n",
      "0         39130\n",
      "1         24164\n",
      "2         16352\n",
      "5         14261\n",
      "3          8174\n",
      "4          4428\n"
     ]
    }
   ],
   "source": [
    "result = hour.groupby(by=\"hours\", observed=True).agg({\n",
    "    \"count_cr\": \"sum\"\n",
    "}).sort_values(by=\"count_cr\", ascending=False)\n",
    "\n",
    "print(result)"
   ]
  },
  {
   "cell_type": "markdown",
   "metadata": {},
   "source": [
    "Disini saya men-sort data **hour**, dimana disini saya menghitung total penyewaan sepeda dalam rentang pukul 00.00 hingga 23.59 dari kolom *hours*, dan yang terbanyak yaitu pukul 17.00 dan tersedikit yaitu pukul 04.00\n",
    "\n",
    "---"
   ]
  },
  {
   "cell_type": "code",
   "execution_count": 32,
   "metadata": {},
   "outputs": [
    {
     "name": "stdout",
     "output_type": "stream",
     "text": [
      "             count_cr\n",
      "one_of_week          \n",
      "Jumat          487790\n",
      "Kamis          485395\n",
      "Sabtu          477807\n",
      "Rabu           473048\n",
      "Selasa         469109\n",
      "Senin          455503\n",
      "Minggu         444027\n"
     ]
    }
   ],
   "source": [
    "result = hour.groupby(by=\"one_of_week\", observed=True).agg({\n",
    "    \"count_cr\": \"sum\"\n",
    "}).sort_values(by=\"count_cr\", ascending=False)\n",
    "\n",
    "print(result)"
   ]
  },
  {
   "cell_type": "markdown",
   "metadata": {},
   "source": [
    "Disini saya men-sort data **hour**, dimana disini saya menghitung total penyewaan *one_of_week* atau hari mana yang paling banyak penyewaan sepeda dan hari mana yang paling sedikit penyewaan sepeda\n",
    "\n",
    "---"
   ]
  },
  {
   "cell_type": "markdown",
   "metadata": {},
   "source": [
    "### 2.2 Explore data day"
   ]
  },
  {
   "cell_type": "code",
   "execution_count": 33,
   "metadata": {},
   "outputs": [
    {
     "data": {
      "text/html": [
       "<div>\n",
       "<style scoped>\n",
       "    .dataframe tbody tr th:only-of-type {\n",
       "        vertical-align: middle;\n",
       "    }\n",
       "\n",
       "    .dataframe tbody tr th {\n",
       "        vertical-align: top;\n",
       "    }\n",
       "\n",
       "    .dataframe thead th {\n",
       "        text-align: right;\n",
       "    }\n",
       "</style>\n",
       "<table border=\"1\" class=\"dataframe\">\n",
       "  <thead>\n",
       "    <tr style=\"text-align: right;\">\n",
       "      <th></th>\n",
       "      <th>instant</th>\n",
       "      <th>dteday</th>\n",
       "      <th>season</th>\n",
       "      <th>year</th>\n",
       "      <th>month</th>\n",
       "      <th>holiday</th>\n",
       "      <th>one_of_week</th>\n",
       "      <th>workingday</th>\n",
       "      <th>weather_situation</th>\n",
       "      <th>temp</th>\n",
       "      <th>atemp</th>\n",
       "      <th>humidity</th>\n",
       "      <th>wind_speed</th>\n",
       "      <th>casual</th>\n",
       "      <th>registered</th>\n",
       "      <th>count_cr</th>\n",
       "      <th>category_days</th>\n",
       "      <th>humidity_category</th>\n",
       "    </tr>\n",
       "  </thead>\n",
       "  <tbody>\n",
       "    <tr>\n",
       "      <th>461</th>\n",
       "      <td>462</td>\n",
       "      <td>2012-04-06</td>\n",
       "      <td>Musim Panas</td>\n",
       "      <td>2012</td>\n",
       "      <td>April</td>\n",
       "      <td>0</td>\n",
       "      <td>Jumat</td>\n",
       "      <td>1</td>\n",
       "      <td>Cerah</td>\n",
       "      <td>0.403333</td>\n",
       "      <td>0.390767</td>\n",
       "      <td>37.7083</td>\n",
       "      <td>0.300388</td>\n",
       "      <td>1807</td>\n",
       "      <td>4653</td>\n",
       "      <td>6460</td>\n",
       "      <td>weekdays</td>\n",
       "      <td>Kering</td>\n",
       "    </tr>\n",
       "    <tr>\n",
       "      <th>657</th>\n",
       "      <td>658</td>\n",
       "      <td>2012-10-19</td>\n",
       "      <td>Musim Dingin</td>\n",
       "      <td>2012</td>\n",
       "      <td>Oktober</td>\n",
       "      <td>0</td>\n",
       "      <td>Jumat</td>\n",
       "      <td>1</td>\n",
       "      <td>Mendung</td>\n",
       "      <td>0.563333</td>\n",
       "      <td>0.537896</td>\n",
       "      <td>81.5000</td>\n",
       "      <td>0.134954</td>\n",
       "      <td>753</td>\n",
       "      <td>4671</td>\n",
       "      <td>5424</td>\n",
       "      <td>weekdays</td>\n",
       "      <td>Lembab</td>\n",
       "    </tr>\n",
       "    <tr>\n",
       "      <th>578</th>\n",
       "      <td>579</td>\n",
       "      <td>2012-08-01</td>\n",
       "      <td>Musim Gugur</td>\n",
       "      <td>2012</td>\n",
       "      <td>Agustus</td>\n",
       "      <td>0</td>\n",
       "      <td>Rabu</td>\n",
       "      <td>1</td>\n",
       "      <td>Cerah</td>\n",
       "      <td>0.717500</td>\n",
       "      <td>0.667308</td>\n",
       "      <td>67.7500</td>\n",
       "      <td>0.141179</td>\n",
       "      <td>1074</td>\n",
       "      <td>6506</td>\n",
       "      <td>7580</td>\n",
       "      <td>weekdays</td>\n",
       "      <td>Lembab</td>\n",
       "    </tr>\n",
       "    <tr>\n",
       "      <th>460</th>\n",
       "      <td>461</td>\n",
       "      <td>2012-04-05</td>\n",
       "      <td>Musim Panas</td>\n",
       "      <td>2012</td>\n",
       "      <td>April</td>\n",
       "      <td>0</td>\n",
       "      <td>Kamis</td>\n",
       "      <td>1</td>\n",
       "      <td>Cerah</td>\n",
       "      <td>0.435000</td>\n",
       "      <td>0.431163</td>\n",
       "      <td>37.4167</td>\n",
       "      <td>0.219529</td>\n",
       "      <td>1192</td>\n",
       "      <td>5265</td>\n",
       "      <td>6457</td>\n",
       "      <td>weekdays</td>\n",
       "      <td>Kering</td>\n",
       "    </tr>\n",
       "    <tr>\n",
       "      <th>617</th>\n",
       "      <td>618</td>\n",
       "      <td>2012-09-09</td>\n",
       "      <td>Musim Gugur</td>\n",
       "      <td>2012</td>\n",
       "      <td>September</td>\n",
       "      <td>0</td>\n",
       "      <td>Minggu</td>\n",
       "      <td>0</td>\n",
       "      <td>Cerah</td>\n",
       "      <td>0.610000</td>\n",
       "      <td>0.578925</td>\n",
       "      <td>54.7500</td>\n",
       "      <td>0.224496</td>\n",
       "      <td>2570</td>\n",
       "      <td>5657</td>\n",
       "      <td>8227</td>\n",
       "      <td>weekend</td>\n",
       "      <td>Ideal</td>\n",
       "    </tr>\n",
       "  </tbody>\n",
       "</table>\n",
       "</div>"
      ],
      "text/plain": [
       "     instant     dteday        season  year      month holiday one_of_week  \\\n",
       "461      462 2012-04-06   Musim Panas  2012      April       0       Jumat   \n",
       "657      658 2012-10-19  Musim Dingin  2012    Oktober       0       Jumat   \n",
       "578      579 2012-08-01   Musim Gugur  2012    Agustus       0        Rabu   \n",
       "460      461 2012-04-05   Musim Panas  2012      April       0       Kamis   \n",
       "617      618 2012-09-09   Musim Gugur  2012  September       0      Minggu   \n",
       "\n",
       "     workingday weather_situation      temp     atemp  humidity  wind_speed  \\\n",
       "461           1             Cerah  0.403333  0.390767   37.7083    0.300388   \n",
       "657           1           Mendung  0.563333  0.537896   81.5000    0.134954   \n",
       "578           1             Cerah  0.717500  0.667308   67.7500    0.141179   \n",
       "460           1             Cerah  0.435000  0.431163   37.4167    0.219529   \n",
       "617           0             Cerah  0.610000  0.578925   54.7500    0.224496   \n",
       "\n",
       "     casual  registered  count_cr category_days humidity_category  \n",
       "461    1807        4653      6460      weekdays            Kering  \n",
       "657     753        4671      5424      weekdays            Lembab  \n",
       "578    1074        6506      7580      weekdays            Lembab  \n",
       "460    1192        5265      6457      weekdays            Kering  \n",
       "617    2570        5657      8227       weekend             Ideal  "
      ]
     },
     "execution_count": 33,
     "metadata": {},
     "output_type": "execute_result"
    }
   ],
   "source": [
    "data[\"day\"].sample(5)"
   ]
  },
  {
   "cell_type": "markdown",
   "metadata": {},
   "source": [
    "Saya menampilkan sample 5 data **day** untuk memudahkan saya dalam membaca kolom\n",
    "\n",
    "\n",
    "---"
   ]
  },
  {
   "cell_type": "code",
   "execution_count": 34,
   "metadata": {},
   "outputs": [
    {
     "name": "stdout",
     "output_type": "stream",
     "text": [
      "              count_cr\n",
      "season                \n",
      "Musim Gugur    1061129\n",
      "Musim Panas     918589\n",
      "Musim Dingin    841613\n",
      "Musim Semi      471348\n"
     ]
    }
   ],
   "source": [
    "result = day.groupby(by=\"season\", observed=True).agg({\n",
    "    \"count_cr\": \"sum\"\n",
    "}).sort_values(by=\"count_cr\", ascending=False)\n",
    "\n",
    "print(result)"
   ]
  },
  {
   "cell_type": "markdown",
   "metadata": {},
   "source": [
    "Disini saya men-sort data **day**, dimana disini saya menghitung total penyewaan disetiap musimnya *season*, dan mengurutkannya dari musim paling banyak penyewaan yaitu musim gugur hingga musim paling sedikit penyewaan yaitu musim semi\n",
    "\n",
    "\n",
    "---"
   ]
  },
  {
   "cell_type": "code",
   "execution_count": 35,
   "metadata": {},
   "outputs": [
    {
     "name": "stdout",
     "output_type": "stream",
     "text": [
      "      registered  casual\n",
      "year                    \n",
      "2011      995851  247252\n",
      "2012     1676811  372765\n"
     ]
    }
   ],
   "source": [
    "result = hour.groupby(\"year\").agg({\n",
    "    \"registered\": \"sum\",\n",
    "    \"casual\": \"sum\"\n",
    "})\n",
    "\n",
    "print(result)"
   ]
  },
  {
   "cell_type": "markdown",
   "metadata": {},
   "source": [
    "Disini saya menelusuri bahwasanya perbandingan seseorang peminjam yang teregistrasi menjadi member dan yang belum menjadi member *casual*, terpaku cukup jauh gap-nya, dimana bisa kita lihat di tahun 2023 member yang teregistrasi yaitu 995,851 dan yang belum menjadi member 247,252 orang\n",
    "\n",
    "---"
   ]
  },
  {
   "cell_type": "code",
   "execution_count": 36,
   "metadata": {},
   "outputs": [
    {
     "name": "stdout",
     "output_type": "stream",
     "text": [
      "           count_cr\n",
      "month              \n",
      "Agustus      351194\n",
      "Juni         346342\n",
      "September    345991\n",
      "Juli         344948\n",
      "Mei          331686\n",
      "Oktober      322352\n",
      "April        269094\n",
      "November     254831\n",
      "Maret        228920\n",
      "Desember     211036\n",
      "Febuari      151352\n",
      "Januari      134933\n"
     ]
    }
   ],
   "source": [
    "result = day.groupby(by=\"month\", observed=True).agg({\n",
    "    \"count_cr\": \"sum\"\n",
    "}).sort_values(by=\"count_cr\", ascending=False)\n",
    "\n",
    "print(result)"
   ]
  },
  {
   "cell_type": "markdown",
   "metadata": {
    "id": "th_Lzl2Fkj9O"
   },
   "source": [
    "**Insight:**\n",
    "- Menghitung jumlah jam dalam penyewaan sepedah terbanyak dan tersedikit pada pukul berapa dari data **hour**\n",
    "- Menghitung jumlah total hari apa yang paling banyak penyewaan sepedanya dari data **hour**\n",
    "- Menghitung jumlah total musim apa yang paling banyak penyewaan sepedanya dari data **day**\n",
    "- Menghitung jumlah total member mana yang teregistrasi dan yang belum atau *casual* pada tahun 2023 dan 2012"
   ]
  },
  {
   "cell_type": "markdown",
   "metadata": {
    "id": "zsyZjqak8DC2"
   },
   "source": [
    "## **3. Visualization & Explanatory Analysis**"
   ]
  },
  {
   "cell_type": "markdown",
   "metadata": {
    "id": "HZxOiQ6n8DC2"
   },
   "source": [
    "### Pertanyaan 1: Bagaimana penyewaan sepeda berdasarkan musim?"
   ]
  },
  {
   "cell_type": "code",
   "execution_count": 37,
   "metadata": {},
   "outputs": [],
   "source": [
    "# Pastikan `grouped_day` sudah didefinisikan sebelumnya\n",
    "grouped_day = day.groupby(by=\"season\", observed=True).agg({\n",
    "    \"count_cr\": \"sum\"\n",
    "}).sort_values(by=\"count_cr\", ascending=False)"
   ]
  },
  {
   "cell_type": "code",
   "execution_count": 38,
   "metadata": {},
   "outputs": [
    {
     "data": {
      "text/html": [
       "<div>\n",
       "<style scoped>\n",
       "    .dataframe tbody tr th:only-of-type {\n",
       "        vertical-align: middle;\n",
       "    }\n",
       "\n",
       "    .dataframe tbody tr th {\n",
       "        vertical-align: top;\n",
       "    }\n",
       "\n",
       "    .dataframe thead th {\n",
       "        text-align: right;\n",
       "    }\n",
       "</style>\n",
       "<table border=\"1\" class=\"dataframe\">\n",
       "  <thead>\n",
       "    <tr style=\"text-align: right;\">\n",
       "      <th></th>\n",
       "      <th>count_cr</th>\n",
       "    </tr>\n",
       "    <tr>\n",
       "      <th>season</th>\n",
       "      <th></th>\n",
       "    </tr>\n",
       "  </thead>\n",
       "  <tbody>\n",
       "    <tr>\n",
       "      <th>Musim Gugur</th>\n",
       "      <td>1061129</td>\n",
       "    </tr>\n",
       "    <tr>\n",
       "      <th>Musim Panas</th>\n",
       "      <td>918589</td>\n",
       "    </tr>\n",
       "    <tr>\n",
       "      <th>Musim Dingin</th>\n",
       "      <td>841613</td>\n",
       "    </tr>\n",
       "    <tr>\n",
       "      <th>Musim Semi</th>\n",
       "      <td>471348</td>\n",
       "    </tr>\n",
       "  </tbody>\n",
       "</table>\n",
       "</div>"
      ],
      "text/plain": [
       "              count_cr\n",
       "season                \n",
       "Musim Gugur    1061129\n",
       "Musim Panas     918589\n",
       "Musim Dingin    841613\n",
       "Musim Semi      471348"
      ]
     },
     "execution_count": 38,
     "metadata": {},
     "output_type": "execute_result"
    }
   ],
   "source": [
    "grouped_day.head()"
   ]
  },
  {
   "cell_type": "code",
   "execution_count": 39,
   "metadata": {},
   "outputs": [
    {
     "data": {
      "image/png": "[encoded data removed]",
      "text/plain": [
       "<Figure size 3500x1000 with 1 Axes>"
      ]
     },
     "metadata": {},
     "output_type": "display_data"
    }
   ],
   "source": [
    "# Define a custom color palette\n",
    "colors = sns.color_palette([\"#66BB6A\", \"#FFEB3B\", \"#FF7043\", \"#80D6FF\"], n_colors=len(grouped_day))\n",
    "\n",
    "# Visualisasi dengan data yang sudah dikelompokkan\n",
    "fig, ax = plt.subplots(figsize=(35, 10))\n",
    "\n",
    "sns.barplot(\n",
    "    y=grouped_day.index,  \n",
    "    x=grouped_day[\"count_cr\"],  \n",
    "    palette=colors,\n",
    "    hue=grouped_day.index,  \n",
    "    ax=ax,\n",
    "    order=grouped_day.index  # Menambahkan urutan berdasarkan index\n",
    ")\n",
    "\n",
    "ax.set_title(\"Bar Chart Antar-Musim\", loc=\"center\", fontsize=50)\n",
    "ax.set_ylabel('season', fontsize=30)\n",
    "ax.set_xlabel('count_cr', fontsize=30)\n",
    "ax.tick_params(axis='x', labelsize=30)\n",
    "ax.tick_params(axis='y', labelsize=30)\n",
    "\n",
    "plt.show()"
   ]
  },
  {
   "cell_type": "markdown",
   "metadata": {},
   "source": [
    "Dari visualisasi ini menunjukkan bahwa musim dengan penyewaan terbanyak adalah *Musim Gugur* dengan jumlah 1,061,129, sedangkan yang paling sedikit atau jarang adanya penyewaan sepeda adalah *Musim Semi* dengan Jumlah 471,348\n",
    "\n",
    "---"
   ]
  },
  {
   "cell_type": "markdown",
   "metadata": {
    "id": "DgHI7CiU8DC2"
   },
   "source": [
    "### Pertanyaan 2: Bagaimana penyewaan sepeda berdasarkan Jam yang terbanyak dan tersedikit?"
   ]
  },
  {
   "cell_type": "code",
   "execution_count": 40,
   "metadata": {},
   "outputs": [],
   "source": [
    "sum_order_items_df = hour.groupby(\"hours\").count_cr.sum().sort_values(ascending=False).reset_index()"
   ]
  },
  {
   "cell_type": "code",
   "execution_count": 41,
   "metadata": {},
   "outputs": [],
   "source": [
    "hour_count = sum_order_items_df.groupby('hours')['count_cr'].sum().reset_index()"
   ]
  },
  {
   "cell_type": "code",
   "execution_count": 42,
   "metadata": {},
   "outputs": [
    {
     "data": {
      "text/html": [
       "<div>\n",
       "<style scoped>\n",
       "    .dataframe tbody tr th:only-of-type {\n",
       "        vertical-align: middle;\n",
       "    }\n",
       "\n",
       "    .dataframe tbody tr th {\n",
       "        vertical-align: top;\n",
       "    }\n",
       "\n",
       "    .dataframe thead th {\n",
       "        text-align: right;\n",
       "    }\n",
       "</style>\n",
       "<table border=\"1\" class=\"dataframe\">\n",
       "  <thead>\n",
       "    <tr style=\"text-align: right;\">\n",
       "      <th></th>\n",
       "      <th>hours</th>\n",
       "      <th>count_cr</th>\n",
       "    </tr>\n",
       "  </thead>\n",
       "  <tbody>\n",
       "    <tr>\n",
       "      <th>0</th>\n",
       "      <td>0</td>\n",
       "      <td>39130</td>\n",
       "    </tr>\n",
       "    <tr>\n",
       "      <th>1</th>\n",
       "      <td>1</td>\n",
       "      <td>24164</td>\n",
       "    </tr>\n",
       "    <tr>\n",
       "      <th>2</th>\n",
       "      <td>2</td>\n",
       "      <td>16352</td>\n",
       "    </tr>\n",
       "    <tr>\n",
       "      <th>3</th>\n",
       "      <td>3</td>\n",
       "      <td>8174</td>\n",
       "    </tr>\n",
       "    <tr>\n",
       "      <th>4</th>\n",
       "      <td>4</td>\n",
       "      <td>4428</td>\n",
       "    </tr>\n",
       "    <tr>\n",
       "      <th>5</th>\n",
       "      <td>5</td>\n",
       "      <td>14261</td>\n",
       "    </tr>\n",
       "    <tr>\n",
       "      <th>6</th>\n",
       "      <td>6</td>\n",
       "      <td>55132</td>\n",
       "    </tr>\n",
       "    <tr>\n",
       "      <th>7</th>\n",
       "      <td>7</td>\n",
       "      <td>154171</td>\n",
       "    </tr>\n",
       "    <tr>\n",
       "      <th>8</th>\n",
       "      <td>8</td>\n",
       "      <td>261001</td>\n",
       "    </tr>\n",
       "    <tr>\n",
       "      <th>9</th>\n",
       "      <td>9</td>\n",
       "      <td>159438</td>\n",
       "    </tr>\n",
       "    <tr>\n",
       "      <th>10</th>\n",
       "      <td>10</td>\n",
       "      <td>126257</td>\n",
       "    </tr>\n",
       "    <tr>\n",
       "      <th>11</th>\n",
       "      <td>11</td>\n",
       "      <td>151320</td>\n",
       "    </tr>\n",
       "    <tr>\n",
       "      <th>12</th>\n",
       "      <td>12</td>\n",
       "      <td>184414</td>\n",
       "    </tr>\n",
       "    <tr>\n",
       "      <th>13</th>\n",
       "      <td>13</td>\n",
       "      <td>184919</td>\n",
       "    </tr>\n",
       "    <tr>\n",
       "      <th>14</th>\n",
       "      <td>14</td>\n",
       "      <td>175652</td>\n",
       "    </tr>\n",
       "    <tr>\n",
       "      <th>15</th>\n",
       "      <td>15</td>\n",
       "      <td>183149</td>\n",
       "    </tr>\n",
       "    <tr>\n",
       "      <th>16</th>\n",
       "      <td>16</td>\n",
       "      <td>227748</td>\n",
       "    </tr>\n",
       "    <tr>\n",
       "      <th>17</th>\n",
       "      <td>17</td>\n",
       "      <td>336860</td>\n",
       "    </tr>\n",
       "    <tr>\n",
       "      <th>18</th>\n",
       "      <td>18</td>\n",
       "      <td>309772</td>\n",
       "    </tr>\n",
       "    <tr>\n",
       "      <th>19</th>\n",
       "      <td>19</td>\n",
       "      <td>226789</td>\n",
       "    </tr>\n",
       "    <tr>\n",
       "      <th>20</th>\n",
       "      <td>20</td>\n",
       "      <td>164550</td>\n",
       "    </tr>\n",
       "    <tr>\n",
       "      <th>21</th>\n",
       "      <td>21</td>\n",
       "      <td>125445</td>\n",
       "    </tr>\n",
       "    <tr>\n",
       "      <th>22</th>\n",
       "      <td>22</td>\n",
       "      <td>95612</td>\n",
       "    </tr>\n",
       "    <tr>\n",
       "      <th>23</th>\n",
       "      <td>23</td>\n",
       "      <td>63941</td>\n",
       "    </tr>\n",
       "  </tbody>\n",
       "</table>\n",
       "</div>"
      ],
      "text/plain": [
       "    hours  count_cr\n",
       "0       0     39130\n",
       "1       1     24164\n",
       "2       2     16352\n",
       "3       3      8174\n",
       "4       4      4428\n",
       "5       5     14261\n",
       "6       6     55132\n",
       "7       7    154171\n",
       "8       8    261001\n",
       "9       9    159438\n",
       "10     10    126257\n",
       "11     11    151320\n",
       "12     12    184414\n",
       "13     13    184919\n",
       "14     14    175652\n",
       "15     15    183149\n",
       "16     16    227748\n",
       "17     17    336860\n",
       "18     18    309772\n",
       "19     19    226789\n",
       "20     20    164550\n",
       "21     21    125445\n",
       "22     22     95612\n",
       "23     23     63941"
      ]
     },
     "execution_count": 42,
     "metadata": {},
     "output_type": "execute_result"
    }
   ],
   "source": [
    "hour_count"
   ]
  },
  {
   "cell_type": "code",
   "execution_count": 43,
   "metadata": {
    "id": "Go0lCsvO8DC2"
   },
   "outputs": [
    {
     "data": {
      "image/png": "[encoded data removed]",
      "text/plain": [
       "<Figure size 3000x1500 with 2 Axes>"
      ]
     },
     "metadata": {},
     "output_type": "display_data"
    }
   ],
   "source": [
    "# Mengurutkan berdasarkan penyewa terbanyak dan sedikit\n",
    "top_rentals = hour_count.sort_values(by=\"count_cr\", ascending=False).head(5)\n",
    "least_rentals = hour_count.sort_values(by=\"count_cr\", ascending=True).head(5)\n",
    "\n",
    "# Mengatur warna untuk top dan least rentals\n",
    "top_colors = [\"#D3D3D3\", \"#D3D3D3\", \"#074799\", \"#D3D3D3\", \"#D3D3D3\"]\n",
    "least_colors = [\"#D3D3D3\", \"#D3D3D3\", \"#D3D3D3\", \"#F26B0F\", \"#D3D3D3\"]\n",
    "\n",
    "# Membuat plot dengan dua sub-plot\n",
    "fig, ax = plt.subplots(nrows=1, ncols=2, figsize=(30, 15))\n",
    "\n",
    "# Plot untuk jam dengan penyewa terbanyak\n",
    "sns.barplot(\n",
    "    x=\"hours\",\n",
    "    y=\"count_cr\",\n",
    "    data=top_rentals,\n",
    "    hue=\"hours\",\n",
    "    palette=top_colors,\n",
    "    ax=ax[0]\n",
    ")\n",
    "ax[0].set_ylabel(\"Jumlah Penyewaan Sepeda\", fontsize=30)\n",
    "ax[0].set_xlabel(\"Jam Malam (PM)\", fontsize=30)\n",
    "ax[0].set_title(\"Jam dengan Penyewa Sepeda Terbanyak\", loc=\"center\", fontsize=30)\n",
    "ax[0].tick_params(axis='x', labelsize=30)\n",
    "ax[0].tick_params(axis='y', labelsize=30)\n",
    "ax[0].legend(title=\"Hour\", title_fontsize=20, fontsize=15)\n",
    "\n",
    "# Plot untuk jam dengan penyewa paling sedikit\n",
    "sns.barplot(\n",
    "    x=\"hours\",\n",
    "    y=\"count_cr\",\n",
    "    data=least_rentals,\n",
    "    hue=\"hours\",\n",
    "    palette=least_colors,\n",
    "    ax=ax[1]\n",
    ")\n",
    "ax[1].set_ylabel(\"Jumlah Penyewaan Sepeda\", fontsize=30)\n",
    "ax[1].set_xlabel(\"Jam Pagi (AM)\", fontsize=30)\n",
    "ax[1].set_title(\"Jam dengan Penyewa Sepeda Tersedikit\", loc=\"center\", fontsize=30)\n",
    "ax[1].invert_xaxis()  # Invert the x-axis for a better view of AM times\n",
    "ax[1].tick_params(axis='x', labelsize=30)\n",
    "ax[1].tick_params(axis='y', labelsize=30)\n",
    "ax[1].legend(title=\"Hour\", title_fontsize=20, fontsize=15)\n",
    "\n",
    "# Tampilkan plot\n",
    "plt.tight_layout()\n",
    "plt.show()"
   ]
  },
  {
   "cell_type": "markdown",
   "metadata": {},
   "source": [
    "Berdasarkan visualisasi yang saya hasilkan ini menunjukkan bahwa penyewaan sepeda itu paling sering digunakan pada waktu pukul 17:00 dengan jumlah 336,860, sedangkan waktu penyewaan paling sedikit adalah pada pukul 04:00 dengan Jumlah 4,428\n",
    "\n",
    "---\n"
   ]
  },
  {
   "cell_type": "markdown",
   "metadata": {},
   "source": [
    "### Pertanyaan 3: Bagaimana Perbandingan Jumlah Pengguna Casual vs Pengguna Teregistrasi?"
   ]
  },
  {
   "cell_type": "code",
   "execution_count": 44,
   "metadata": {},
   "outputs": [],
   "source": [
    "# Menjumlahkan semua elemen dalam kolom casual\n",
    "total_casual = sum(day['casual'])\n",
    "\n",
    "# Menjumlahkan semua elemen dalam kolom registered\n",
    "total_registered = sum(day['registered'])\n",
    "\n",
    "# Data untuk bar chart\n",
    "data = {\n",
    "    'Tipe Pengguna': ['Casual', 'Registered'],\n",
    "    'Total Rental': [total_casual, total_registered]\n",
    "}\n",
    "\n",
    "# Membuat DataFrame dari data\n",
    "total_pengguna = pd.DataFrame(data)"
   ]
  },
  {
   "cell_type": "code",
   "execution_count": 45,
   "metadata": {},
   "outputs": [
    {
     "data": {
      "text/html": [
       "<div>\n",
       "<style scoped>\n",
       "    .dataframe tbody tr th:only-of-type {\n",
       "        vertical-align: middle;\n",
       "    }\n",
       "\n",
       "    .dataframe tbody tr th {\n",
       "        vertical-align: top;\n",
       "    }\n",
       "\n",
       "    .dataframe thead th {\n",
       "        text-align: right;\n",
       "    }\n",
       "</style>\n",
       "<table border=\"1\" class=\"dataframe\">\n",
       "  <thead>\n",
       "    <tr style=\"text-align: right;\">\n",
       "      <th></th>\n",
       "      <th>Tipe Pengguna</th>\n",
       "      <th>Total Rental</th>\n",
       "    </tr>\n",
       "  </thead>\n",
       "  <tbody>\n",
       "    <tr>\n",
       "      <th>0</th>\n",
       "      <td>Casual</td>\n",
       "      <td>620017</td>\n",
       "    </tr>\n",
       "    <tr>\n",
       "      <th>1</th>\n",
       "      <td>Registered</td>\n",
       "      <td>2672662</td>\n",
       "    </tr>\n",
       "  </tbody>\n",
       "</table>\n",
       "</div>"
      ],
      "text/plain": [
       "  Tipe Pengguna  Total Rental\n",
       "0        Casual        620017\n",
       "1    Registered       2672662"
      ]
     },
     "execution_count": 45,
     "metadata": {},
     "output_type": "execute_result"
    }
   ],
   "source": [
    "total_pengguna.head()"
   ]
  },
  {
   "cell_type": "code",
   "execution_count": 46,
   "metadata": {},
   "outputs": [
    {
     "data": {
      "image/png": "[encoded data removed]",
      "text/plain": [
       "<Figure size 640x480 with 1 Axes>"
      ]
     },
     "metadata": {},
     "output_type": "display_data"
    }
   ],
   "source": [
    "# Data untuk bar chart\n",
    "data = [total_casual, total_registered]\n",
    "labels = ['Casual', 'Registered']\n",
    "colors = [\"#F26B0F\", \"#074799\"]\n",
    "\n",
    "# Membuat bar chart\n",
    "plt.bar(labels, data, color=colors)\n",
    "\n",
    "# Menambahkan label dan judul\n",
    "plt.xlabel('Tipe Pengguna', fontsize=14)\n",
    "plt.ylabel('Total Rental', fontsize=14)\n",
    "plt.title('Total Casual vs Registered Rentals', fontsize=16)\n",
    "\n",
    "# Menampilkan bar chart\n",
    "plt.show()"
   ]
  },
  {
   "cell_type": "markdown",
   "metadata": {},
   "source": [
    "Bisa kita lihat bahwa perbandingan seorang pengguna yang teregistrasi *registered* dan yang *casual* sangat jauh dimana untuk yang *registered* itu jumlah penggunanya 2,672,662, sedangkan yang *casual* 620,017\n",
    "\n",
    "---"
   ]
  },
  {
   "cell_type": "markdown",
   "metadata": {},
   "source": [
    "### Pertanyaan 4 : Bagaimana pola Penyewaan sepeda antara hari kerja vs akhir pekan?"
   ]
  },
  {
   "cell_type": "code",
   "execution_count": 47,
   "metadata": {},
   "outputs": [],
   "source": [
    "# Menghitung rata-rata pengguna casual dan registered per hari\n",
    "weekday_data = day.pivot_table(\n",
    "    values=['casual', 'registered'],\n",
    "    index='one_of_week',\n",
    "    aggfunc='sum',\n",
    "    observed=False\n",
    ")"
   ]
  },
  {
   "cell_type": "code",
   "execution_count": 48,
   "metadata": {},
   "outputs": [
    {
     "data": {
      "text/html": [
       "<div>\n",
       "<style scoped>\n",
       "    .dataframe tbody tr th:only-of-type {\n",
       "        vertical-align: middle;\n",
       "    }\n",
       "\n",
       "    .dataframe tbody tr th {\n",
       "        vertical-align: top;\n",
       "    }\n",
       "\n",
       "    .dataframe thead th {\n",
       "        text-align: right;\n",
       "    }\n",
       "</style>\n",
       "<table border=\"1\" class=\"dataframe\">\n",
       "  <thead>\n",
       "    <tr style=\"text-align: right;\">\n",
       "      <th></th>\n",
       "      <th>casual</th>\n",
       "      <th>registered</th>\n",
       "    </tr>\n",
       "    <tr>\n",
       "      <th>one_of_week</th>\n",
       "      <th></th>\n",
       "      <th></th>\n",
       "    </tr>\n",
       "  </thead>\n",
       "  <tbody>\n",
       "    <tr>\n",
       "      <th>Minggu</th>\n",
       "      <td>140521</td>\n",
       "      <td>303506</td>\n",
       "    </tr>\n",
       "    <tr>\n",
       "      <th>Senin</th>\n",
       "      <td>70784</td>\n",
       "      <td>384719</td>\n",
       "    </tr>\n",
       "    <tr>\n",
       "      <th>Selasa</th>\n",
       "      <td>57843</td>\n",
       "      <td>411266</td>\n",
       "    </tr>\n",
       "    <tr>\n",
       "      <th>Rabu</th>\n",
       "      <td>57319</td>\n",
       "      <td>415729</td>\n",
       "    </tr>\n",
       "    <tr>\n",
       "      <th>Kamis</th>\n",
       "      <td>61460</td>\n",
       "      <td>423935</td>\n",
       "    </tr>\n",
       "    <tr>\n",
       "      <th>Jumat</th>\n",
       "      <td>78238</td>\n",
       "      <td>409552</td>\n",
       "    </tr>\n",
       "    <tr>\n",
       "      <th>Sabtu</th>\n",
       "      <td>153852</td>\n",
       "      <td>323955</td>\n",
       "    </tr>\n",
       "  </tbody>\n",
       "</table>\n",
       "</div>"
      ],
      "text/plain": [
       "             casual  registered\n",
       "one_of_week                    \n",
       "Minggu       140521      303506\n",
       "Senin         70784      384719\n",
       "Selasa        57843      411266\n",
       "Rabu          57319      415729\n",
       "Kamis         61460      423935\n",
       "Jumat         78238      409552\n",
       "Sabtu        153852      323955"
      ]
     },
     "execution_count": 48,
     "metadata": {},
     "output_type": "execute_result"
    }
   ],
   "source": [
    "weekday_data"
   ]
  },
  {
   "cell_type": "code",
   "execution_count": 49,
   "metadata": {},
   "outputs": [
    {
     "data": {
      "image/png": "[encoded data removed]",
      "text/plain": [
       "<Figure size 1200x600 with 2 Axes>"
      ]
     },
     "metadata": {},
     "output_type": "display_data"
    }
   ],
   "source": [
    "# Membuat plot dengan dua sumbu y\n",
    "fig, ax1 = plt.subplots(figsize=(12, 6))\n",
    "\n",
    "# Plot pengguna casual\n",
    "color = 'tab:blue'\n",
    "ax1.set_xlabel('Hari dalam seminggu')\n",
    "ax1.set_ylabel('Pengguna Casual', color=color)\n",
    "line1 = ax1.plot(weekday_data.index, weekday_data['casual'], color=color, marker='o', label='Casual')\n",
    "ax1.tick_params(axis='y', labelcolor=color)\n",
    "\n",
    "# Menambahkan angka di atas titik untuk pengguna casual\n",
    "for x, y in zip(weekday_data.index, weekday_data['casual']):\n",
    "    ax1.text(x, y, f'{y:.0f}', color=color, ha='center', va='bottom', fontsize=10)\n",
    "\n",
    "# Plot pengguna registered pada sumbu y kedua\n",
    "ax2 = ax1.twinx()\n",
    "color = 'tab:orange'\n",
    "ax2.set_ylabel('Pengguna Teregistrasi', color=color)\n",
    "line2 = ax2.plot(weekday_data.index, weekday_data['registered'], color=color, marker='o', label='Registered')\n",
    "ax2.tick_params(axis='y', labelcolor=color)\n",
    "\n",
    "# Menambahkan angka di atas titik untuk pengguna registered\n",
    "for x, y in zip(weekday_data.index, weekday_data['registered']):\n",
    "    ax2.text(x, y, f'{y:.0f}', color=color, ha='center', va='bottom', fontsize=10)\n",
    "\n",
    "# Menambahkan judul dan rotasi pada label x-axis\n",
    "plt.title('Pola Penyewaan Sepeda Antara Hari Kerja vs Akhir Pekan', fontsize=20)\n",
    "plt.xticks(rotation=45)\n",
    "\n",
    "# Menyesuaikan layout agar lebih rapi\n",
    "fig.tight_layout()\n",
    "plt.show()"
   ]
  },
  {
   "cell_type": "markdown",
   "metadata": {},
   "source": [
    "Bisa kita lihat bahwa pengguna *Casual* cenderung lebih banyak meminjam sepeda ketika weekend, dibandingkan pengguna *Registered* cenderung lebih banyak menggunakan pinjaman sepeda pada saat weekday\n",
    "\n",
    "\n",
    "---"
   ]
  },
  {
   "cell_type": "markdown",
   "metadata": {},
   "source": [
    "### Pertanyaan 5 : Berapa Total Penyewaan Setiap Bulannya?"
   ]
  },
  {
   "cell_type": "code",
   "execution_count": 50,
   "metadata": {},
   "outputs": [],
   "source": [
    "day['month'] = pd.to_datetime(day['dteday']).dt.month\n",
    "day['month_name'] = day['month'].map(mappings['month']) \n",
    "\n",
    "day['month_name'] = pd.Categorical(day['month_name'], categories=mappings['month'].values(), ordered=True)\n",
    "\n",
    "monthly_revenue = day.groupby('month_name', observed=True)['count_cr'].sum()"
   ]
  },
  {
   "cell_type": "code",
   "execution_count": 51,
   "metadata": {},
   "outputs": [
    {
     "data": {
      "text/plain": [
       "month_name\n",
       "Januari      134933\n",
       "Febuari      151352\n",
       "Maret        228920\n",
       "April        269094\n",
       "Mei          331686\n",
       "Juni         346342\n",
       "Juli         344948\n",
       "Agustus      351194\n",
       "September    345991\n",
       "Oktober      322352\n",
       "November     254831\n",
       "Desember     211036\n",
       "Name: count_cr, dtype: int64"
      ]
     },
     "execution_count": 51,
     "metadata": {},
     "output_type": "execute_result"
    }
   ],
   "source": [
    "monthly_revenue"
   ]
  },
  {
   "cell_type": "code",
   "execution_count": 52,
   "metadata": {},
   "outputs": [
    {
     "data": {
      "image/png": "[encoded data removed]",
      "text/plain": [
       "<Figure size 1200x600 with 1 Axes>"
      ]
     },
     "metadata": {},
     "output_type": "display_data"
    }
   ],
   "source": [
    "colors = ['tab:blue' if month != 'Agustus' else 'red' for month in monthly_revenue.index]\n",
    "\n",
    "# Membuat bar chart dengan ukuran yang lebih proporsional\n",
    "plt.figure(figsize=(12, 6))  # Lebar dan tinggi lebih proporsional untuk Streamlit\n",
    "bars = plt.bar(monthly_revenue.index, monthly_revenue.values, color=colors)\n",
    "\n",
    "# Menambahkan legend untuk warna\n",
    "red_patch = plt.Line2D([0], [0], color='red', lw=4, label='Bulan Sewa Terbanyak')\n",
    "blue_patch = plt.Line2D([0], [0], color='tab:blue', lw=4, label='Bulan Lainnya')\n",
    "plt.legend(handles=[red_patch, blue_patch], loc='upper right', fontsize=8)\n",
    "\n",
    "# Menambahkan judul dan label\n",
    "plt.title('Total Penyewaan Sepeda per Bulan', fontsize=16, pad=20)\n",
    "plt.xlabel('Bulan', fontsize=14, labelpad=10)\n",
    "plt.ylabel('Total Penyewaan', fontsize=14, labelpad=10)\n",
    "plt.xticks(rotation=45, fontsize=12)  # Agar label bulan lebih jelas\n",
    "plt.yticks(fontsize=12)\n",
    "\n",
    "# Menambahkan nilai di atas setiap bar\n",
    "for bar in bars:\n",
    "    height = bar.get_height()\n",
    "    plt.text(\n",
    "        bar.get_x() + bar.get_width() / 2, height + 5,  # Posisi teks\n",
    "        f'{int(height)}',  # Menampilkan nilai dalam format integer\n",
    "        ha='center', va='bottom', fontsize=10\n",
    "    )\n",
    "\n",
    "# Menampilkan grafik\n",
    "plt.tight_layout()\n",
    "plt.show()"
   ]
  },
  {
   "cell_type": "markdown",
   "metadata": {},
   "source": [
    "Bisa kita lihat bahwa Penyewaan / Penyewaan sepeda terbanyak dalam kategori bulanan itu adalah bulan *Agustus* dengan jumlah 351,194\n",
    "\n",
    "\n",
    "---"
   ]
  },
  {
   "cell_type": "markdown",
   "metadata": {
    "id": "_0-36BDLklRg"
   },
   "source": [
    "**Insight:**\n",
    "- Pertanyaan nomor 1 terjawab, karena telah menampilkan visualisasi penyewaan sepeda berdasarkan musim. Dan musim dengan penyewaan atau penyewaan sepeda terbanyak adalah *Musim Gugur*\n",
    "- Pertanyaan nomor 2 terjawab, karena telah menampilkan visualisasi distribusi penyewaan sepeda berdasarkan waktu dan yang saya analisis adalah waktu terbanyak dan waktu tersedikit yang digunakan oleh penyewa ini. Dari data tersebut bahwa jam terbanyak penyewanya adalah pukul 17:00, dan yang tersedikit adalah pukul 04:00. Mungkin ini secara logika saya pada pukul 00:00 hingga 05:00 adalah waktu yang paling jarang orang menggunakan sepeda dikarenakan pada waktu tersebut kebanyakan manusia itu sedang Istirahat.\n",
    "- Pertanyaan nomor 3 terjawab, karena telah menampilkan visualisasi perbandingan jumlah pengguna *casual* dan *registered* yang dimana disini sangat jauh sekali perbandingannya, banyak orang yang sudah tersegistrasi dan cukup banyak juga yang masih belum teregistrasi, menurut data yang saya analisis sebesar 2,672,662 pengguna yang teregistrasi dan 620,017 adalah *casual*\n",
    "- Pertanyaan nomor 4 terjawab, karena telah menampilkan visualisasi pola atau karakteristik dari pengguna *casual* dan *registered*, dimana disini bisa kita lihat pengguna yang *registered* itu adalah pengguna yang dominan menyewanya pada saat weekday atau hari kerja, sedangkan *casual* dominan menyewa pada saat weekend atau akhir pekan. Hal ini menjadi jawaban yang jelas bahwasannya pengguna yang *registered* adalah pengguna yang bekerja dan untuk *casual* menandakan ia tidak sesibuk seperti orang yang *registered*\n",
    "- Pertanyaan nomor 5 terjawab, karena telah menampilkan visualisasi jumlah penyewaan setiap bulannya, dan kita tahu bahwa bulan yang paling sering penyewaan adalah bulan *Agustus* dengan 351,194"
   ]
  },
  {
   "cell_type": "markdown",
   "metadata": {
    "id": "9y4VUsmcYNZ5"
   },
   "source": [
    "## **4. Analisis Lanjutan**"
   ]
  },
  {
   "cell_type": "markdown",
   "metadata": {},
   "source": [
    "## 4.1 RFM Analysis"
   ]
  },
  {
   "cell_type": "markdown",
   "metadata": {},
   "source": [
    "Dalam Penyewaan Sepeda, kita dapat mengadaptasi konsep RFM untuk:\n",
    "\n",
    "*   Recency: Hari terakhir pengguna meminjam sepeda, semakin kecil *recency* menandakan baru bertransaksi\n",
    "*   Frequency: Jumlah total penyewaan sepeda oleh pengguna.\n",
    "*   Monetary: Total durasi atau jumlah penyewaan sepeda, semakin besar *monetary* menandakan pengeluarannya untuk meminjam sepeda besar"
   ]
  },
  {
   "cell_type": "code",
   "execution_count": 53,
   "metadata": {},
   "outputs": [
    {
     "name": "stdout",
     "output_type": "stream",
     "text": [
      "     instant  frequency  monetary  recency customer_segment\n",
      "0          1          1       985      730           Casual\n",
      "1          2          1       801      729           Casual\n",
      "2          3          1      1349      728       Registered\n",
      "3          4          1      1562      727       Registered\n",
      "4          5          1      1600      726       Registered\n",
      "..       ...        ...       ...      ...              ...\n",
      "726      727          1      2114        4       Registered\n",
      "727      728          1      3095        3       Registered\n",
      "728      729          1      1341        2       Registered\n",
      "729      730          1      1796        1       Registered\n",
      "730      731          1      2729        0       Registered\n",
      "\n",
      "[731 rows x 5 columns]\n"
     ]
    }
   ],
   "source": [
    "day['last_purchase_date'] = pd.to_datetime(day['dteday'])\n",
    "current_date = day['last_purchase_date'].max()\n",
    "day['recency'] = (current_date - day['last_purchase_date']).dt.days\n",
    "\n",
    "frequency = day.groupby('instant').size().reset_index(name='frequency')\n",
    "monetary = day.groupby('instant')['count_cr'].sum().reset_index(name='monetary')\n",
    "\n",
    "rfm = pd.merge(frequency, monetary, on='instant')\n",
    "\n",
    "rfm['recency'] = day.groupby('instant')['recency'].min().reset_index(drop=True)\n",
    "\n",
    "rfm['customer_segment'] = rfm.apply(\n",
    "    lambda x: 'Registered' if x['frequency'] > 5 or x['monetary'] > 1000 else 'Casual', axis=1\n",
    ")\n",
    "\n",
    "print(rfm)"
   ]
  },
  {
   "cell_type": "markdown",
   "metadata": {},
   "source": [
    "Disini saya menampilkan range dari data 0 hingga 730, bisa kita lihat contohnya transaksi terbaru itu dilakukan oleh data ke 730 atau *recency* = 0 dengan *monetary* sebesar 2729 dan Tipe Pengguna yang sudah teregistrasi\n",
    "\n",
    "---"
   ]
  },
  {
   "cell_type": "code",
   "execution_count": 54,
   "metadata": {},
   "outputs": [
    {
     "name": "stdout",
     "output_type": "stream",
     "text": [
      "     instant  frequency  monetary  recency customer_segment\n",
      "623      624          1      8714      107       Registered\n",
      "637      638          1      8555       93       Registered\n",
      "630      631          1      8395      100       Registered\n",
      "447      448          1      8362      283       Registered\n",
      "504      505          1      8294      226       Registered\n"
     ]
    }
   ],
   "source": [
    "top_5_monetary = rfm.sort_values(by='monetary', ascending=False).head(5)\n",
    "\n",
    "print(top_5_monetary)"
   ]
  },
  {
   "cell_type": "markdown",
   "metadata": {},
   "source": [
    "Disini saya menampilkan *monetary* terbesar atau terbanyak itu adalah sebesar 8714 oleh pengguna dengan *recency* = 107 dan Tipe Pengguna yang sudah Teregistrasi\n",
    "\n",
    "---"
   ]
  },
  {
   "cell_type": "markdown",
   "metadata": {},
   "source": [
    "## 4.2 Clusterring"
   ]
  },
  {
   "cell_type": "markdown",
   "metadata": {},
   "source": [
    "### 4.2.1 Clusterring Pengguna dari data RFM"
   ]
  },
  {
   "cell_type": "code",
   "execution_count": 55,
   "metadata": {},
   "outputs": [
    {
     "data": {
      "image/png": "[encoded data removed]",
      "text/plain": [
       "<Figure size 1000x600 with 1 Axes>"
      ]
     },
     "metadata": {},
     "output_type": "display_data"
    }
   ],
   "source": [
    "scaler = StandardScaler() \n",
    "rfm_scaled = scaler.fit_transform(rfm[['recency', 'frequency', 'monetary']])\n",
    "\n",
    "wcss = []\n",
    "for k in range(1, 11):\n",
    "    kmeans = KMeans(n_clusters=k, random_state=42, n_init=10)\n",
    "    kmeans.fit(rfm_scaled)\n",
    "    wcss.append(kmeans.inertia_)\n",
    "\n",
    "plt.figure(figsize=(10, 6))\n",
    "plt.plot(range(1, 11), wcss, marker='o')\n",
    "plt.title('Metode Siku untuk Jumlah Kluster yang Optimal')\n",
    "plt.xlabel('Number of Clusters')\n",
    "plt.ylabel('WCSS')\n",
    "plt.show()\n",
    "\n",
    "optimal_clusters = 3  \n",
    "kmeans = KMeans(n_clusters=optimal_clusters, random_state=42, n_init=10)\n",
    "rfm['Cluster'] = kmeans.fit_predict(rfm_scaled)"
   ]
  },
  {
   "cell_type": "code",
   "execution_count": 56,
   "metadata": {},
   "outputs": [
    {
     "data": {
      "text/html": [
       "<div>\n",
       "<style scoped>\n",
       "    .dataframe tbody tr th:only-of-type {\n",
       "        vertical-align: middle;\n",
       "    }\n",
       "\n",
       "    .dataframe tbody tr th {\n",
       "        vertical-align: top;\n",
       "    }\n",
       "\n",
       "    .dataframe thead th {\n",
       "        text-align: right;\n",
       "    }\n",
       "</style>\n",
       "<table border=\"1\" class=\"dataframe\">\n",
       "  <thead>\n",
       "    <tr style=\"text-align: right;\">\n",
       "      <th></th>\n",
       "      <th>instant</th>\n",
       "      <th>frequency</th>\n",
       "      <th>monetary</th>\n",
       "      <th>recency</th>\n",
       "      <th>customer_segment</th>\n",
       "      <th>Cluster</th>\n",
       "    </tr>\n",
       "  </thead>\n",
       "  <tbody>\n",
       "    <tr>\n",
       "      <th>0</th>\n",
       "      <td>1</td>\n",
       "      <td>1</td>\n",
       "      <td>985</td>\n",
       "      <td>730</td>\n",
       "      <td>Casual</td>\n",
       "      <td>2</td>\n",
       "    </tr>\n",
       "    <tr>\n",
       "      <th>1</th>\n",
       "      <td>2</td>\n",
       "      <td>1</td>\n",
       "      <td>801</td>\n",
       "      <td>729</td>\n",
       "      <td>Casual</td>\n",
       "      <td>2</td>\n",
       "    </tr>\n",
       "    <tr>\n",
       "      <th>2</th>\n",
       "      <td>3</td>\n",
       "      <td>1</td>\n",
       "      <td>1349</td>\n",
       "      <td>728</td>\n",
       "      <td>Registered</td>\n",
       "      <td>2</td>\n",
       "    </tr>\n",
       "    <tr>\n",
       "      <th>3</th>\n",
       "      <td>4</td>\n",
       "      <td>1</td>\n",
       "      <td>1562</td>\n",
       "      <td>727</td>\n",
       "      <td>Registered</td>\n",
       "      <td>2</td>\n",
       "    </tr>\n",
       "    <tr>\n",
       "      <th>4</th>\n",
       "      <td>5</td>\n",
       "      <td>1</td>\n",
       "      <td>1600</td>\n",
       "      <td>726</td>\n",
       "      <td>Registered</td>\n",
       "      <td>2</td>\n",
       "    </tr>\n",
       "    <tr>\n",
       "      <th>...</th>\n",
       "      <td>...</td>\n",
       "      <td>...</td>\n",
       "      <td>...</td>\n",
       "      <td>...</td>\n",
       "      <td>...</td>\n",
       "      <td>...</td>\n",
       "    </tr>\n",
       "    <tr>\n",
       "      <th>726</th>\n",
       "      <td>727</td>\n",
       "      <td>1</td>\n",
       "      <td>2114</td>\n",
       "      <td>4</td>\n",
       "      <td>Registered</td>\n",
       "      <td>0</td>\n",
       "    </tr>\n",
       "    <tr>\n",
       "      <th>727</th>\n",
       "      <td>728</td>\n",
       "      <td>1</td>\n",
       "      <td>3095</td>\n",
       "      <td>3</td>\n",
       "      <td>Registered</td>\n",
       "      <td>1</td>\n",
       "    </tr>\n",
       "    <tr>\n",
       "      <th>728</th>\n",
       "      <td>729</td>\n",
       "      <td>1</td>\n",
       "      <td>1341</td>\n",
       "      <td>2</td>\n",
       "      <td>Registered</td>\n",
       "      <td>0</td>\n",
       "    </tr>\n",
       "    <tr>\n",
       "      <th>729</th>\n",
       "      <td>730</td>\n",
       "      <td>1</td>\n",
       "      <td>1796</td>\n",
       "      <td>1</td>\n",
       "      <td>Registered</td>\n",
       "      <td>0</td>\n",
       "    </tr>\n",
       "    <tr>\n",
       "      <th>730</th>\n",
       "      <td>731</td>\n",
       "      <td>1</td>\n",
       "      <td>2729</td>\n",
       "      <td>0</td>\n",
       "      <td>Registered</td>\n",
       "      <td>1</td>\n",
       "    </tr>\n",
       "  </tbody>\n",
       "</table>\n",
       "<p>731 rows × 6 columns</p>\n",
       "</div>"
      ],
      "text/plain": [
       "     instant  frequency  monetary  recency customer_segment  Cluster\n",
       "0          1          1       985      730           Casual        2\n",
       "1          2          1       801      729           Casual        2\n",
       "2          3          1      1349      728       Registered        2\n",
       "3          4          1      1562      727       Registered        2\n",
       "4          5          1      1600      726       Registered        2\n",
       "..       ...        ...       ...      ...              ...      ...\n",
       "726      727          1      2114        4       Registered        0\n",
       "727      728          1      3095        3       Registered        1\n",
       "728      729          1      1341        2       Registered        0\n",
       "729      730          1      1796        1       Registered        0\n",
       "730      731          1      2729        0       Registered        1\n",
       "\n",
       "[731 rows x 6 columns]"
      ]
     },
     "execution_count": 56,
     "metadata": {},
     "output_type": "execute_result"
    }
   ],
   "source": [
    "rfm"
   ]
  },
  {
   "cell_type": "markdown",
   "metadata": {},
   "source": [
    "Cluster di atas dapat diartikan sebagai berikut:\n",
    "\n",
    "\n",
    "*   Cluster 0 = Pengguna yang cenderung melakukan transaksi dengan jumlah *Monetary* yang menengah. Mereka cenderung memiliki *Recency* yang lebih tinggi, menunjukkan bahwa mereka telah melakukan transaksi lebih lama.\n",
    "*   Cluster 1 = Pengguna dengan *Monetary* yang lebih tinggi dan Recency yang lebih rendah. Ini adalah pengguna yang relatif baru dan melakukan transaksi dengan jumlah uang yang besar.\n",
    "*   Cluster 2 = Pengguna dengan *Monetary* yang lebih rendah dan Recency yang lebih tinggi. Mereka adalah pengguna yang sudah lama melakukan transaksi tetapi dengan jumlah yang lebih kecil.\n",
    "\n",
    "---\n"
   ]
  },
  {
   "cell_type": "markdown",
   "metadata": {},
   "source": [
    "### 4.2.2 Clusterring Manual Group Humidity"
   ]
  },
  {
   "cell_type": "code",
   "execution_count": 57,
   "metadata": {},
   "outputs": [
    {
     "name": "stdout",
     "output_type": "stream",
     "text": [
      "                  count_cr\n",
      "                     count\n",
      "humidity_category         \n",
      "Lembab                8356\n",
      "Ideal                 5505\n",
      "Kering                3518\n"
     ]
    }
   ],
   "source": [
    "result = hour.groupby(by=\"humidity_category\").agg({\"count_cr\": [\"count\"]})\n",
    "\n",
    "# Sort the results in descending order\n",
    "sorted_result = result.sort_values(by=('count_cr', 'count'), ascending=False)\n",
    "\n",
    "print(sorted_result)"
   ]
  },
  {
   "cell_type": "markdown",
   "metadata": {},
   "source": [
    "BIsa kita lihat dari data **hour** bahwa pengguna akan lebih sering meminjam di keadaan *humidity* Lembab dibandingkan *Humidity* Kering\n",
    "\n",
    "---"
   ]
  },
  {
   "cell_type": "markdown",
   "metadata": {},
   "source": [
    "### 4.2.3 Clusterring Manual Group Weather Situation"
   ]
  },
  {
   "cell_type": "code",
   "execution_count": 58,
   "metadata": {},
   "outputs": [
    {
     "name": "stdout",
     "output_type": "stream",
     "text": [
      "weather_situation\n",
      "Cerah           11413\n",
      "Mendung          4544\n",
      "Hujan Ringan     1419\n",
      "Hujan Lebat         3\n",
      "dtype: int64\n"
     ]
    }
   ],
   "source": [
    "count_weather = hour.groupby(by=\"weather_situation\", observed=False).size().sort_values(ascending=False)\n",
    "\n",
    "print(count_weather)"
   ]
  },
  {
   "cell_type": "markdown",
   "metadata": {},
   "source": [
    "Bisa kita lihat dari data **hour** bahwa pengguna penyewaan sepedah lebih cenderung meminjam sepeda ketika cuacanya itu *Cerah* dengan 11413, dan ada juga pengguna yang meminjam ketika *Hujan Lebat* = 3\n",
    "\n",
    "\n",
    "---"
   ]
  },
  {
   "cell_type": "markdown",
   "metadata": {
    "id": "_WeHlCeX8DC2"
   },
   "source": [
    "## Conclusion"
   ]
  },
  {
   "cell_type": "markdown",
   "metadata": {
    "id": "ZTcyR48Y8DC2"
   },
   "source": [
    "- Conclution Pertanyaan 1 : Bagaimana penyewaan sepeda berdasarkan musim?\n",
    "- Conclution Pertanyaan 2 : Bagaimana penyewaan sepeda berdasarkan Jam yang terbanyak dan tersedikit?\n",
    "- Conclution Pertanyaan 3 : Bagaimana perbandingan jumlah pengguna casual vs pengguna teregistrasi?\n",
    "- Conclution Pertanyaan 4 : Bagaimana pola penyewaan sepeda antara hari kerja vs akhir pekan?\n",
    "- Conclution Pertanyaan 5 : Berapa Total Penyewaan Setiap Bulannya?\n",
    "\n",
    "- Pertanyaan 1 : Berdasarkan visualisasi yang saya berikan itu sudah menjawab pertanyaan, dimana saya menampilkan penyewaan antar musim dan memplotkannya dalam kategori 4 musim yang dimana *Musim Gugur* adalah musim yang paling sering untuk orang menyewa sepeda. Hal ini bisa didasarkan oleh cuacanya yang sejuk dan nyaman, dan pemandangan alamnya yang indah nan menawan.\n",
    "- Pertanyaan 2 : Berdasarkan visualisasi yang saya berikan itu sudah sangat menjawab pertanyaan, dimana saya menampilkan penyewaan dalam range terbanyak dan tersedikit, yang dimana pada pukul 17:00 adalah pukul terbanyak orang menyewa sepeda dan pada pukul 04:00 adalah paling sedikit orang menyewa sepeda, yang dapat kita simpulkan pada range pukul 01:00 hingga 05:00 adalah waktu Istirahat dan pada pukul 17:00 adalah waktu untuk pulang bekerja.\n",
    "- Pertanyaan 3 : Berdasarkan visualisasi yang saya berikan itu sudah sangat menjawab pertanyaan, dimana saya menampilkan perbandingan jumlah penyewa *casual* dan *registered* dimana perbandingannya jauh dan penyewa yang sudah *registered* itu berjumlah 2,672,662 sedangkan *casual* jumlahnya 620,017.\n",
    "- Pertanyaan 4 : Berdasarkan visualisasi yang saya berikan itu sudah sangat menjawab pertanyaan, dimana saya menampilkan pola penyewaan untuk hari kerja dan akhir pekan ini memiliki keunikan, dimana penyewa yang *registered* itu cenderung menggunakannya ketika hari kerja, dan *casual* cenderung menggunakan ketika akhir pekan. Hal ini bisa disimpulkan bahwa penyewa *registered* adalah orang yang tengah bekerja dan memiliki keharusan untuk menyewa sepeda, sedangkan *casual* itu orang yang bisa aja pekerja juga namun di dominasi oleh orang yang ingin menggunakannya sesekali saja ketika di akhir pekan.\n",
    "- Pertanyaan 5 : Berdasarkan visualisasi yang saya berikan itu sudah sangat menjawab pertanyaan, dimana saya menampilkan jumlah total penyewaan setiap bulannya dan menentukan juga bulan dengan penyewaan terbanyak yaitu bulan *Agustus* dengan jumlah penyewaan 351,194"
   ]
  },
  {
   "cell_type": "code",
   "execution_count": 59,
   "metadata": {},
   "outputs": [],
   "source": [
    "day.to_csv('main_data_day.csv', index=False)"
   ]
  },
  {
   "cell_type": "code",
   "execution_count": 60,
   "metadata": {},
   "outputs": [],
   "source": [
    "hour.to_csv('main_data_hour.csv', index=False)"
   ]
  }
 ],
 "metadata": {
  "colab": {
   "provenance": []
  },
  "kernelspec": {
   "display_name": "Python 3 (ipykernel)",
   "language": "python",
   "name": "python3"
  },
  "language_info": {
   "codemirror_mode": {
    "name": "ipython",
    "version": 3
   },
   "file_extension": ".py",
   "mimetype": "text/x-python",
   "name": "python",
   "nbconvert_exporter": "python",
   "pygments_lexer": "ipython3",
   "version": "3.12.4"
  },
  "vscode": {
   "interpreter": {
    "hash": "972b3bf27e332e87b5379f2791f6ef9dfc79c71018c370b0d7423235e20fe4d7"
   }
  }
 },
 "nbformat": 4,
 "nbformat_minor": 4
}
